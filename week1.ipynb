{
  "cells": [
    {
      "cell_type": "markdown",
      "metadata": {
        "id": "boqOkrCrb7Bv"
      },
      "source": [
        "<a href=\"https://colab.research.google.com/github/MasahiroAraki/basicSeminar/blob/master/week1.ipynb\" target=\"_parent\"><img src=\"https://colab.research.google.com/assets/colab-badge.svg\" alt=\"Open In Colab\"/></a>"
      ]
    },
    {
      "cell_type": "markdown",
      "metadata": {
        "id": "jy0nO1OGgGQm"
      },
      "source": [
        "# Python入門(1)\n",
        "\n",
        "* 読み込み・演算・表示\n",
        "\n",
        "このテキストは [京大 プログラミング演習 Python 2021](http://hdl.handle.net/2433/265459) 3章を参考にしています。説明が足りないところはリンク先のテキストで補ってください。"
      ]
    },
    {
      "cell_type": "markdown",
      "metadata": {
        "id": "aGrqlvtkr5AF"
      },
      "source": [
        "# 読み込み・演算・表示"
      ]
    },
    {
      "cell_type": "markdown",
      "metadata": {
        "id": "fOk64qNPaPJ7"
      },
      "source": [
        "コンピュータの基本的な機能は記憶と演算です。また、人間とコンピュータとのやりとりの基本は記憶すべきデータを入力することと、演算結果を表示することです。これらをつないだ読み込み・演算・表示の処理は、どのようなプログラミング言語を学ぶときでも最初に学ぶべき手順です。"
      ]
    },
    {
      "cell_type": "markdown",
      "metadata": {
        "id": "XjmWdOLYyHob"
      },
      "source": [
        "## 変数\n",
        "\n",
        "コンピュータ内部では記憶装置（メモリ）内にデータを憶えさせます。この憶えさせる場所を変数、そこに付ける名前を変数名といいます。\n",
        "\n",
        "- 変数名の規則\n",
        "  - 変数名にはアルファベットの大文字・小文字、数字、_ (アンダーバー)が使える。ただし、変数名の先頭には数字は使えない。 \n",
        "  - 1文字などの短い変数名は狭い範囲の一時変数のみに用い、意味のあるデータはそれらを表す英語名を基本として用いる。慣習として変数名には小文字のみを用い、複数単語からなる場合はアンダーバーで単語をつなぐ（いわゆるスネークケース）。\n",
        "  - 予約語（ if や return など）は変数名には使えない\n",
        "- 変数の型\n",
        "  - 数値：整数、浮動小数点数、複素数\n",
        "  - 真偽値: True または False\n",
        "  - 文字列、リスト、関数、オブジェクトなども変数に入れられる\n",
        "  - 代入される値によって型が自動的に決まる動的型付けという方式を採用しているので、型の宣言は不要\n",
        "- 変数への値の入力\n",
        "  - input関数を用いる。引数は入力の際に表示される文字列（プロンプトとよぶ）。戻り値が文字列なので、数値として扱いたいときは int関数やfloat関数などで型変換を行う。\n",
        "- 変数の値の表示\n",
        "  - print関数を用いる。書式指定はprint関数の引数にf文字列を用いる。f文字列中では変数は中括弧で囲み、必要ならば桁指定の情報などを付ける。"
      ]
    },
    {
      "cell_type": "markdown",
      "metadata": {
        "id": "zkDib8pIs0A8"
      },
      "source": [
        "## 演算子\n",
        "\n",
        "- 算術演算子：加減乗除、剰余等 (京大テキストp.42 表2-1)\n",
        "  - 例) +, -, *, /, %\n",
        "- 比較演算子：条件式を構成\n",
        "  - 例) ==, <, >=\n",
        "- 論理演算子：論理式を構成\n",
        "  - 例) and, or, not\n",
        "- 代入演算子：変数の値を書き換え\n",
        "  - 例) =, +=, *=\n",
        "\n",
        "大まかな優先順位はこの順番"
      ]
    },
    {
      "cell_type": "markdown",
      "metadata": {
        "id": "Ecxr7rar0pFO"
      },
      "source": [
        "### プログラム1\n",
        "\n",
        "読み込み・演算・表示の処理の例です。1行目のマジックコマンドはJupyter notebook中で変数の値などをクリアするものです。"
      ]
    },
    {
      "cell_type": "code",
      "execution_count": null,
      "metadata": {
        "colab": {
          "base_uri": "https://localhost:8080/"
        },
        "id": "-JFYVh94yH-k",
        "outputId": "07d6c7be-7a88-416a-824d-a80d24307d77"
      },
      "outputs": [
        {
          "name": "stdout",
          "output_type": "stream",
          "text": [
            "Enter integer> 3\n",
            "3の5倍は15\n"
          ]
        }
      ],
      "source": [
        "%reset -f\n",
        "# 変数への入力・演算・表示を行う\n",
        "\n",
        "a = int(input('Enter integer> '))\n",
        "b = a * 5\n",
        "print(f'{a}の5倍は{b}')"
      ]
    },
    {
      "cell_type": "markdown",
      "metadata": {
        "id": "6jARoQNdyIFt"
      },
      "source": [
        "### プログラム2\n",
        "\n",
        "数値計算法であるニュートン法を使って入力された数値に対する平方根を求めるプログラムです。平方根の近似にあたり、近似値は求める値より常に大きく（初期値は入力値）、下限値は 入力値/近似値 とすることで求める値より常に小さくし、新たな近似値をそれらの平均値とすることで順次近似します。ニュートン法の詳しい説明は京大テキストp.63を参照。\n",
        "\n",
        "以下のプログラムでは、表示される3つの数値のうち、真ん中のものが近似値です。"
      ]
    },
    {
      "cell_type": "code",
      "execution_count": null,
      "metadata": {
        "colab": {
          "base_uri": "https://localhost:8080/"
        },
        "id": "TEJb0fEsyIPx",
        "outputId": "60744cee-84c5-4169-9599-45ad001ef3fb"
      },
      "outputs": [
        {
          "name": "stdout",
          "output_type": "stream",
          "text": [
            "Enter integer>2\n",
            "1.0 < 1.5 < 2.0\n",
            "1.3333 < 1.4167 < 1.5\n",
            "1.4118 < 1.4142 < 1.4167\n"
          ]
        }
      ],
      "source": [
        "%reset -f\n",
        "# ニュートン法で平方根を近似する処理を3回行う\n",
        "x = int(input('Enter integer>'))\n",
        "rnew = float(x)\n",
        "\n",
        "r1 = rnew\n",
        "r2 = x/r1\n",
        "rnew = (r1 + r2)/2\n",
        "print(f'{r2:.5} < {rnew:.5} < {r1:.5}')\n",
        "\n",
        "r1 = rnew\n",
        "r2 = x/r1\n",
        "rnew = (r1 + r2)/2\n",
        "print(f'{r2:.5} < {rnew:.5} < {r1:.5}')\n",
        "\n",
        "r1 = rnew\n",
        "r2 = x/r1\n",
        "rnew = (r1 + r2)/2\n",
        "print(f'{r2:.5} < {rnew:.5} < {r1:.5}')"
      ]
    },
    {
      "cell_type": "markdown",
      "metadata": {
        "id": "TuMITasiRsqK"
      },
      "source": [
        "## 練習問題1-1\n",
        "\n",
        "浮動小数点数を入力して、その3倍を出力するプログラムを記述せよ。"
      ]
    },
    {
      "cell_type": "code",
      "execution_count": null,
      "metadata": {
        "id": "Htftem91RsqK"
      },
      "outputs": [],
      "source": [
        ""
      ]
    },
    {
      "cell_type": "markdown",
      "metadata": {
        "id": "6rKSQdrXRsqK"
      },
      "source": [
        "## 練習問題1-2\n",
        "\n",
        "氏名を入力して、「こんにちは、○○さん」と出力するプログラムを記述せよ。"
      ]
    },
    {
      "cell_type": "code",
      "execution_count": null,
      "metadata": {
        "id": "RaY5Ko0YRsqK"
      },
      "outputs": [],
      "source": [
        ""
      ]
    }
  ],
  "metadata": {
    "colab": {
      "collapsed_sections": [],
      "name": "week1.ipynb",
      "provenance": []
    },
    "kernelspec": {
      "display_name": "Python 3",
      "name": "python3"
    },
    "language_info": {
      "name": "python"
    }
  },
  "nbformat": 4,
  "nbformat_minor": 0
}