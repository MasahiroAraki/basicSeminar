{
  "cells": [
    {
      "cell_type": "markdown",
      "metadata": {
        "id": "boqOkrCrb7Bv"
      },
      "source": [
        "<a href=\"https://colab.research.google.com/github/MasahiroAraki/basicSeminar/blob/master/week2.ipynb\" target=\"_parent\"><img src=\"https://colab.research.google.com/assets/colab-badge.svg\" alt=\"Open In Colab\"/></a>"
      ]
    },
    {
      "cell_type": "markdown",
      "metadata": {
        "id": "jy0nO1OGgGQm"
      },
      "source": [
        "# Python入門(2)\n",
        "\n",
        "* データ構造\n",
        "* 制御構造\n",
        "\n",
        "このテキストは [京大 プログラミング演習 Python 2021](http://hdl.handle.net/2433/265459) 4～5章を参考にしています。説明が足りないところはリンク先のテキストで補ってください。"
      ]
    },
    {
      "cell_type": "markdown",
      "metadata": {
        "id": "LkfNolvpHLZk"
      },
      "source": [
        "# リスト・タプル・辞書\n",
        "\n",
        "## リスト\n",
        "\n",
        "複数の値をまとめたものはリストで表現します。リストは全体を '[' と ']' で囲って、個々の値の区切りは ',' （カンマ）を使います。個々の値のことを要素といいます。\n",
        "\n",
        "リストには以下の特徴があります。\n",
        "\n",
        "- 要素数が可変\n",
        "  - 要素の追加・削除やリスト同士の結合などのメソッドを持つ\n",
        "- 各要素は同じ型でなくてもよい\n",
        "- 特定の要素の取り出しは0から始まるインデックスを用いる\n",
        "- 一部の範囲の要素の取り出しにはスライスを用いる\n",
        "  - 表記： リスト名[ スライスの開始 : スライスの終了 : ステップ ] \n",
        "  - ステップは省略可能\n",
        "- リストのコピーは可能だが注意が必要"
      ]
    },
    {
      "cell_type": "code",
      "execution_count": null,
      "metadata": {
        "colab": {
          "base_uri": "https://localhost:8080/"
        },
        "id": "rE2z3Tq54h25",
        "outputId": "6fa52de2-fe49-4f5a-ed30-065824e911d9"
      },
      "outputs": [
        {
          "data": {
            "text/plain": [
              "30"
            ]
          },
          "execution_count": 3,
          "metadata": {},
          "output_type": "execute_result"
        }
      ],
      "source": [
        "num_list = [10, 20, 30, 40, 50]\n",
        "num_list[2]"
      ]
    },
    {
      "cell_type": "markdown",
      "metadata": {
        "id": "ROsI_2WQ5IS0"
      },
      "source": [
        "スライスはリストの一部を取り出します。[ 先頭のインデックス : 終端のインデックス-1] の形で指定します。これは、スライス番号がインデックスが要素の間に振られていると考えるとわかりやすくなります。\n",
        "\n",
        "![スライド1.PNG](data:image/png;base64,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)"
      ]
    },
    {
      "cell_type": "code",
      "execution_count": null,
      "metadata": {
        "colab": {
          "base_uri": "https://localhost:8080/"
        },
        "id": "17yVbbFv5Ihj",
        "outputId": "fa53f01f-4ee4-4e08-f50d-b55445946af3"
      },
      "outputs": [
        {
          "data": {
            "text/plain": [
              "[20, 30, 40]"
            ]
          },
          "execution_count": 4,
          "metadata": {},
          "output_type": "execute_result"
        }
      ],
      "source": [
        "num_list[1:4]"
      ]
    },
    {
      "cell_type": "markdown",
      "metadata": {
        "id": "OP7wXmnVc7vo"
      },
      "source": [
        "リストを格納した変数はコピーできます。ただし、コピーされるのは先頭要素のアドレスなので、メモリ上の実態は同じものを指します。別のリストを作成してコピーする場合は、a.copy() というメソッドを使います（リストが入れ子になっている場合はこの方法でもさらに注意が必要です）。"
      ]
    },
    {
      "cell_type": "code",
      "execution_count": null,
      "metadata": {
        "colab": {
          "base_uri": "https://localhost:8080/"
        },
        "id": "yyAzBQvlc78A",
        "outputId": "5be132af-2ed2-4036-fc73-311359a35889"
      },
      "outputs": [
        {
          "name": "stdout",
          "output_type": "stream",
          "text": [
            "[5, 8, 3]\n",
            "[5, 2, 3]\n"
          ]
        }
      ],
      "source": [
        "a = [5, 8, 3]\n",
        "b = a\n",
        "print(b)\n",
        "a[1] = 2\n",
        "print(b)"
      ]
    },
    {
      "cell_type": "code",
      "execution_count": null,
      "metadata": {
        "colab": {
          "base_uri": "https://localhost:8080/"
        },
        "id": "xqWa4IGHc8Rj",
        "outputId": "600d67bf-acb1-4556-b807-2f19e67497dd"
      },
      "outputs": [
        {
          "name": "stdout",
          "output_type": "stream",
          "text": [
            "[5, 8, 3]\n",
            "[5, 8, 3]\n"
          ]
        }
      ],
      "source": [
        "a = [5, 8, 3]\n",
        "b = a.copy()\n",
        "print(b)\n",
        "a[1] = 2\n",
        "print(b)"
      ]
    },
    {
      "cell_type": "markdown",
      "metadata": {
        "id": "BXFK5Kz080ba"
      },
      "source": [
        "## タプル\n",
        "\n",
        "タプルはカンマで区切られた要素を \\() で囲ったものです。要素へのアクセスはインデックスによって行えますが、リストと違って要素の追加や変更はできません。リストのようにいつでも変更が可能なオブジェクトをミュータブル、タプルのように一度定義すると変更ができないオブジェクトをイミュータブルといいます。"
      ]
    },
    {
      "cell_type": "code",
      "execution_count": null,
      "metadata": {
        "colab": {
          "base_uri": "https://localhost:8080/"
        },
        "id": "AjBI_xtg80nl",
        "outputId": "c9fe464b-64fa-44bb-ee71-b833d4cd7c82"
      },
      "outputs": [
        {
          "data": {
            "text/plain": [
              "8"
            ]
          },
          "execution_count": 7,
          "metadata": {},
          "output_type": "execute_result"
        }
      ],
      "source": [
        "a = (2, 8, 7, 1, 5)\n",
        "a[1]"
      ]
    },
    {
      "cell_type": "code",
      "execution_count": null,
      "metadata": {
        "colab": {
          "base_uri": "https://localhost:8080/",
          "height": 191
        },
        "id": "lBpWnVqkXsj7",
        "outputId": "0f6667f1-dccf-4309-9130-e0e3609fbe19"
      },
      "outputs": [
        {
          "ename": "TypeError",
          "evalue": "ignored",
          "output_type": "error",
          "traceback": [
            "\u001b[0;31m---------------------------------------------------------------------------\u001b[0m",
            "\u001b[0;31mTypeError\u001b[0m                                 Traceback (most recent call last)",
            "\u001b[0;32m<ipython-input-8-51847b9ccade>\u001b[0m in \u001b[0;36m<module>\u001b[0;34m()\u001b[0m\n\u001b[1;32m      1\u001b[0m \u001b[0;31m# タプルを書き換えようとしているのでエラーになる\u001b[0m\u001b[0;34m\u001b[0m\u001b[0;34m\u001b[0m\u001b[0;34m\u001b[0m\u001b[0m\n\u001b[0;32m----> 2\u001b[0;31m \u001b[0ma\u001b[0m\u001b[0;34m[\u001b[0m\u001b[0;36m1\u001b[0m\u001b[0;34m]\u001b[0m \u001b[0;34m=\u001b[0m \u001b[0;36m3\u001b[0m\u001b[0;34m\u001b[0m\u001b[0;34m\u001b[0m\u001b[0m\n\u001b[0m",
            "\u001b[0;31mTypeError\u001b[0m: 'tuple' object does not support item assignment"
          ]
        }
      ],
      "source": [
        "# タプルを書き換えようとしているのでエラーになる\n",
        "a[1] = 3"
      ]
    },
    {
      "cell_type": "markdown",
      "metadata": {
        "id": "OqRoPPWF80v7"
      },
      "source": [
        "## 辞書\n",
        "\n",
        "キーと値のペアで複数の要素をまとめる方法です。要素へはインデックスではなく、キーでアクセスできます。キーは文字列などのイミュータブルなオブジェクトでなければいけません。辞書自体は要素の追加・変更・削除ができるミュータブルなオブジェクトです。"
      ]
    },
    {
      "cell_type": "code",
      "execution_count": null,
      "metadata": {
        "colab": {
          "base_uri": "https://localhost:8080/",
          "height": 36
        },
        "id": "9hgK7wBy804I",
        "outputId": "88957927-d5ed-42b6-fa3d-e1973710cd77"
      },
      "outputs": [
        {
          "data": {
            "application/vnd.google.colaboratory.intrinsic+json": {
              "type": "string"
            },
            "text/plain": [
              "'Tom Bean'"
            ]
          },
          "execution_count": 9,
          "metadata": {},
          "output_type": "execute_result"
        }
      ],
      "source": [
        "b = {'name': 'Tom Bean', 'age': 21, 'point':80}\n",
        "b['name']"
      ]
    },
    {
      "cell_type": "markdown",
      "metadata": {
        "id": "Djvt5lqvyIWY"
      },
      "source": [
        "# 制御構造\n",
        "\n",
        "条件に応じて実行するプログラムを変えたり、繰り返したりする方法を制御構造とよびます。"
      ]
    },
    {
      "cell_type": "markdown",
      "metadata": {},
      "source": [
        "## 条件分岐"
      ]
    },
    {
      "cell_type": "markdown",
      "metadata": {},
      "source": [
        "week1のプログラム2を再掲します。"
      ]
    },
    {
      "cell_type": "code",
      "execution_count": null,
      "metadata": {},
      "outputs": [],
      "source": [
        "%reset -f\n",
        "# ニュートン法で平方根を近似する処理を3回行う\n",
        "x = int(input('Enter integer>'))\n",
        "rnew = float(x)\n",
        "\n",
        "r1 = rnew\n",
        "r2 = x/r1\n",
        "rnew = (r1 + r2)/2\n",
        "print(f'{r2:.5} < {rnew:.5} < {r1:.5}')\n",
        "\n",
        "r1 = rnew\n",
        "r2 = x/r1\n",
        "rnew = (r1 + r2)/2\n",
        "print(f'{r2:.5} < {rnew:.5} < {r1:.5}')\n",
        "\n",
        "r1 = rnew\n",
        "r2 = x/r1\n",
        "rnew = (r1 + r2)/2\n",
        "print(f'{r2:.5} < {rnew:.5} < {r1:.5}')"
      ]
    },
    {
      "cell_type": "markdown",
      "metadata": {
        "id": "7xVo2CoV36pm"
      },
      "source": [
        "プログラム2では、負の数を入力されるとおかしな計算結果になります。また、0を入力されると0での除算（r2 = x/r1の行）が起こるので、プログラムが停止してしまいます。このような入力の誤りに対処するために、条件によってプログラムの実行箇所を変更できるif文を使って入力をチェックします。\n",
        "\n",
        "条件が成立したときに実行したいコードはブロックとしてインデントを付けて書きます。同じインデントを持つ一連の行はブロックを構成します。\n",
        "\n",
        "if文は条件不成立のときに実行するelseを書くことができます。elseの後に条件を書きたいときは else if ではなく elif を使います。"
      ]
    },
    {
      "cell_type": "markdown",
      "metadata": {
        "id": "A2yUPMBt5gGX"
      },
      "source": [
        "### プログラム3\n",
        "\n",
        "プログラム2の入力部分のみを取り出し、値をチェックするようにしたものです。"
      ]
    },
    {
      "cell_type": "code",
      "execution_count": null,
      "metadata": {
        "colab": {
          "base_uri": "https://localhost:8080/"
        },
        "id": "XEWcxqFIyIeT",
        "outputId": "471da640-2e88-4955-82b5-7b81380226e5"
      },
      "outputs": [
        {
          "name": "stdout",
          "output_type": "stream",
          "text": [
            "Enter integer> 3\n",
            "3\n"
          ]
        }
      ],
      "source": [
        "%reset -f\n",
        "# 入力が正のときのみ、その値を表示して正常終了\n",
        "import sys\n",
        "\n",
        "x = int(input('Enter integer> '))\n",
        "if x <= 0:\n",
        "  print('Input error!')\n",
        "  sys.exit()\n",
        "print(x)"
      ]
    },
    {
      "cell_type": "markdown",
      "metadata": {
        "id": "ELnATrowS-RC"
      },
      "source": [
        "## 繰り返し"
      ]
    },
    {
      "cell_type": "markdown",
      "metadata": {
        "id": "LaIGjhHN7bw0"
      },
      "source": [
        "### for文\n",
        "\n",
        "一定回数を繰り返すfor文はrange関数を使ってループ変数を与えます。なお、繰り返し処理の内部では、繰り返しを強制的に中止するbreak文、残りの処理をスキップして次の繰り返しに移るcontinue文が使えます。"
      ]
    },
    {
      "cell_type": "markdown",
      "metadata": {
        "id": "JcisP6xx-pcc"
      },
      "source": [
        "### プログラム4\n",
        "\n",
        "for文を使うとプログラム2は以下のようになります（プログラム3の変更も組み入れています）。"
      ]
    },
    {
      "cell_type": "code",
      "execution_count": null,
      "metadata": {
        "colab": {
          "base_uri": "https://localhost:8080/"
        },
        "id": "CKkfRFKxrr0T",
        "outputId": "c7b08e98-067e-433e-d54e-d6a0148ad9f6"
      },
      "outputs": [
        {
          "name": "stdout",
          "output_type": "stream",
          "text": [
            "Enter integer> 3\n",
            "1.0 < 2.0 < 3.0\n",
            "1.5 < 1.75 < 2.0\n",
            "1.7143 < 1.7321 < 1.75\n"
          ]
        }
      ],
      "source": [
        "%reset -f\n",
        "# ニュートン法で平方根を求める\n",
        "import sys\n",
        "\n",
        "x = int(input('Enter integer> '))\n",
        "if x <= 0:\n",
        "  print('Input error!')\n",
        "  sys.exit()\n",
        "rnew = float(x)\n",
        "\n",
        "for i in range(3):\n",
        "  r1 = rnew\n",
        "  r2 = x/r1\n",
        "  rnew = (r1 + r2)/2\n",
        "  print(f'{r2:.5} < {rnew:.5} < {r1:.5}')"
      ]
    },
    {
      "cell_type": "markdown",
      "metadata": {
        "id": "O06qZkdwYl0w"
      },
      "source": [
        "リストの操作には主としてfor文を用います。\n",
        "\n",
        "リストの定義には、要素を列挙する外延表記だけではなく、要素の性質を記述する内包表記が可能です。"
      ]
    },
    {
      "cell_type": "code",
      "execution_count": null,
      "metadata": {
        "colab": {
          "base_uri": "https://localhost:8080/"
        },
        "id": "2dqF1eVJYmA8",
        "outputId": "a4e4ed1e-af71-4de7-9d4b-b80fa8d04d23"
      },
      "outputs": [
        {
          "data": {
            "text/plain": [
              "[2, 4, 6, 8, 10, 12, 14, 16, 18, 20]"
            ]
          },
          "execution_count": 12,
          "metadata": {},
          "output_type": "execute_result"
        }
      ],
      "source": [
        "even_list = [i*2 for i in range(1, 11)]\n",
        "even_list"
      ]
    },
    {
      "cell_type": "markdown",
      "metadata": {
        "id": "vBejl4Al3sBl"
      },
      "source": [
        "リストの各要素についての処理は、ループ変数を必要としません。リストの先頭から順にひとつずつ要素を取り出してループ処理を行うというイメージです。"
      ]
    },
    {
      "cell_type": "code",
      "execution_count": null,
      "metadata": {
        "colab": {
          "base_uri": "https://localhost:8080/"
        },
        "id": "WebWka9e3rff",
        "outputId": "635e5ad6-1579-4747-ccc0-614db9c0b165"
      },
      "outputs": [
        {
          "name": "stdout",
          "output_type": "stream",
          "text": [
            "10\n",
            "20\n",
            "30\n",
            "40\n",
            "50\n"
          ]
        }
      ],
      "source": [
        "num_list = [10, 20, 30, 40, 50]\n",
        "for x in num_list:\n",
        "  print(x)"
      ]
    },
    {
      "cell_type": "markdown",
      "metadata": {
        "id": "Hn0LMPMl4Ygm"
      },
      "source": [
        "インデックスを使う場合は以下のようにします。"
      ]
    },
    {
      "cell_type": "code",
      "execution_count": null,
      "metadata": {
        "colab": {
          "base_uri": "https://localhost:8080/"
        },
        "id": "Maii-d4PHLmy",
        "outputId": "434b39b5-4087-4362-9c78-640f05f7f93c"
      },
      "outputs": [
        {
          "name": "stdout",
          "output_type": "stream",
          "text": [
            "num_list[0] = 10\n",
            "num_list[1] = 20\n",
            "num_list[2] = 30\n",
            "num_list[3] = 40\n",
            "num_list[4] = 50\n"
          ]
        }
      ],
      "source": [
        "for i, x in enumerate(num_list):\n",
        "  print(f'num_list[{i}] = {x}')"
      ]
    },
    {
      "cell_type": "markdown",
      "metadata": {
        "id": "4zAX16C8toVG"
      },
      "source": [
        "### while文\n",
        "\n",
        "while文を使って条件が成立する間、処理を繰り返すことができます。"
      ]
    },
    {
      "cell_type": "markdown",
      "metadata": {
        "id": "365XvhX7-hx9"
      },
      "source": [
        "### プログラム5\n",
        "\n",
        "while文を使って、2つの近似値が一定の差以下になるまで繰り返しています。なお、absは絶対値を求める組み込み関数です。\n"
      ]
    },
    {
      "cell_type": "code",
      "execution_count": null,
      "metadata": {
        "colab": {
          "base_uri": "https://localhost:8080/"
        },
        "id": "3j4JKUa-tE48",
        "outputId": "fe52c558-6072-4b81-da31-9efdf0731160"
      },
      "outputs": [
        {
          "name": "stdout",
          "output_type": "stream",
          "text": [
            "Enter integer> 5\n",
            "2.2360671 < 2.236068 < 2.2360689\n"
          ]
        }
      ],
      "source": [
        "%reset -f\n",
        "# 2つの近似値が一定の差以下になるまで繰り返し\n",
        "import sys\n",
        "\n",
        "x = int(input('Enter integer> '))\n",
        "if x <= 0:\n",
        "  print('Input error!')\n",
        "  sys.exit()\n",
        "rnew = float(x)\n",
        "diff = rnew - x/rnew\n",
        "\n",
        "while diff > 1.0E-3:\n",
        "  r1 = rnew\n",
        "  r2 = x/r1\n",
        "  rnew = (r1 + r2)/2\n",
        "  diff = abs(r1 - r2)\n",
        "\n",
        "print(f'{r2:.8} < {rnew:.8} < {r1:.8}')"
      ]
    },
    {
      "cell_type": "markdown",
      "metadata": {
        "id": "YrN9pmt2Do4R"
      },
      "source": [
        "# エラーへの対処\n",
        "\n",
        "プログラム3では、0以下の値が入ってきたときのみ対処可能でした。しかし、このようにユーザに自由な入力を許す状況では数値以外のものが入力されてエラーとなる可能性もあります。たとえばこの平方根を求めるプログラムは正の浮動小数点数でも正しく動作するのですが、小数点 . （ピリオド）の代わりに間違って , （カンマ）を入力してしまうような状況があり得ます。\n",
        "\n",
        "また、エラーが出たらプログラムを終了するのではなく、再度入力させるように変更した方がユーザにとっても使いやすいプログラムになります。\n",
        "\n",
        "そのようなことを実現するために、エラーが起こりえるコードをtry以下のブロックで記述し、そこで発生した例外に対してexcept以下のブロックで対処する方法を使います。"
      ]
    },
    {
      "cell_type": "markdown",
      "metadata": {
        "id": "j-70VBISjbH-"
      },
      "source": [
        "### プログラム6\n",
        "\n",
        "try文を使って例外を受け取ることで入力のエラーチェックを行います。"
      ]
    },
    {
      "cell_type": "code",
      "execution_count": null,
      "metadata": {
        "colab": {
          "base_uri": "https://localhost:8080/"
        },
        "id": "EBkGBz6lDpD7",
        "outputId": "1ad1da3e-f07a-45cf-8701-1a4082f4e6c6"
      },
      "outputs": [
        {
          "name": "stdout",
          "output_type": "stream",
          "text": [
            "Enter positive number> -1\n",
            "-1.0は正の数値ではありません。\n",
            "Enter positive number> abc\n",
            "abcは数値に変換できません。\n",
            "Enter positive number> 3\n",
            "3.0\n"
          ]
        }
      ],
      "source": [
        "%reset -f\n",
        "# 入力が正しくなるまで繰り返し\n",
        "import sys\n",
        "\n",
        "while True:\n",
        "  x = input('Enter positive number> ')\n",
        "  try:\n",
        "    x = float(x)\n",
        "  except ValueError:\n",
        "    print(f'{x}は数値に変換できません。')\n",
        "    continue\n",
        "  except:\n",
        "    print('予期せぬエラーです')\n",
        "    sys.exit()\n",
        "  if x <= 0:\n",
        "    print(f'{x}は正の数値ではありません。')\n",
        "    continue\n",
        "  break\n",
        "\n",
        "print(x)"
      ]
    }
  ],
  "metadata": {
    "colab": {
      "collapsed_sections": [],
      "name": "pyintro1.ipynb",
      "provenance": []
    },
    "kernelspec": {
      "display_name": "Python 3",
      "name": "python3"
    },
    "language_info": {
      "name": "python"
    }
  },
  "nbformat": 4,
  "nbformat_minor": 0
}
