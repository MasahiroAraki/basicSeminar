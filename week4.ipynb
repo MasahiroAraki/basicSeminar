{
  "cells": [
    {
      "cell_type": "markdown",
      "metadata": {
        "id": "9t365WgSAI_T"
      },
      "source": [
        "<a href=\"https://colab.research.google.com/github/MasahiroAraki/basicSeminar/blob/master/week4.ipynb\" target=\"_parent\"><img src=\"https://colab.research.google.com/assets/colab-badge.svg\" alt=\"Open In Colab\"/></a>"
      ]
    },
    {
      "cell_type": "markdown",
      "metadata": {
        "id": "yzshjpxJkN_j"
      },
      "source": [
        "# Python入門(4)\n",
        "\n",
        "- クラス\n",
        "- 入出力\n",
        "\n",
        "このテキストは [京大 プログラミング演習 Python 2021](http://hdl.handle.net/2433/265459) 11,12章を参考にしています。説明が足りないところはリンク先のテキストで補ってください。"
      ]
    },
    {
      "cell_type": "markdown",
      "metadata": {
        "id": "OUTKUgfvHLxd"
      },
      "source": [
        "# クラス\n",
        "\n",
        "クラスは変数の集まりで表現された内部状態を持ちます。そして、その内部状態を使って何らかの処理を行う関数であるメソッドを付随させます。なお、クラス名は変数名と同じ規則で命名されますが、大文字で始め、複数の単語からなる場合はキャメルケース（各単語の先頭文字を大文字にして結合）とすることで変数名と区別する習慣になっています。\n",
        "\n",
        "オブジェクト指向プログラミングでは、このクラス定義に具体的な値を与えることによってメモリ上の実体であるインスタンスを作成し、外部からそのインスタンスのメソッドを呼び出すことによって、メソッド実装の詳細は外部から隠蔽し、高いレベルのメッセージ交換のみで必要な処理を記述することができるようになります。"
      ]
    },
    {
      "cell_type": "markdown",
      "metadata": {
        "id": "FAbG3FIwqmgV"
      },
      "source": [
        "### プログラム8\n",
        "\n",
        "例としてスタックをクラスとして定義してみます。スタックとは、棚のようなデータ構造で、入ってきたデータが順に積み重ねられ、出るときは一番最後に入ったデータから出て行きます。\n",
        "\n",
        "\\_\\_init\\_\\_ というメソッドはコンストラクタとよばれ、インスタンスが作成されるときに自動的に呼び出されるメソッドです。各メソッドの引数には、先頭に自分自身のインスタンスを表すselfを書きますが、外部からの呼び出しのときには、この引数を書く必要はありません。"
      ]
    },
    {
      "cell_type": "code",
      "execution_count": null,
      "metadata": {
        "colab": {
          "base_uri": "https://localhost:8080/"
        },
        "id": "v94evy7VHL7E",
        "outputId": "5fddc901-e60e-4c57-b253-e731ae10c283"
      },
      "outputs": [
        {
          "name": "stdout",
          "output_type": "stream",
          "text": [
            "3\n",
            "2\n",
            "9\n",
            "8\n",
            "5\n",
            "None\n"
          ]
        }
      ],
      "source": [
        "%reset -f\n",
        "class MyStack():\n",
        "  def __init__(self, data):\n",
        "    self.num_list = data\n",
        "\n",
        "  def push(self, elem):\n",
        "    self.num_list.append(elem)\n",
        "\n",
        "  def pop(self):\n",
        "    if self.is_empty() == True:\n",
        "      return None\n",
        "    else:\n",
        "      x = self.num_list[-1]\n",
        "      self.num_list = self.num_list[:-1]\n",
        "      return x\n",
        "\n",
        "  def is_empty(self):\n",
        "    return self.num_list == []\n",
        "\n",
        "  def clear(self):\n",
        "    self.num_list = []\n",
        "\n",
        "if __name__ == '__main__':\n",
        "  st = MyStack([5, 2, 3])\n",
        "  print(st.pop())\n",
        "  print(st.pop())\n",
        "  st.push(8)\n",
        "  st.push(9)\n",
        "  print(st.pop())\n",
        "  print(st.pop())\n",
        "  print(st.pop())\n",
        "  print(st.pop())"
      ]
    },
    {
      "cell_type": "markdown",
      "metadata": {
        "id": "o-1_gM0OvJ0Q"
      },
      "source": [
        "プログラム8中のnum_listのようにインスタンス毎に用意される変数をインスタンス変数とよびます。インスタンス変数はメソッド内でself,を前に付けて定義され、外部からは インスタンス名.変数名 でアクセスします。一方、メソッド定義の外側で定義された変数はクラス変数とよばれ、そのクラスのすべてのインスタンスで共通の値を持ち、クラス名.変数名 の形でアクセスします。\n",
        "\n",
        "変数名の前にアンダーバー2つを付けると、クラス外からは操作できないアクセス制限された変数になります。"
      ]
    },
    {
      "cell_type": "markdown",
      "metadata": {
        "id": "B8Rm4GKqIYiM"
      },
      "source": [
        "# 入出力\n",
        "\n",
        "ファイルを読み書きするためには、まずopen関数でファイル名とモードを指定して、戻り値でファイルオブジェクトを得ます。モードは'r'が読み込み、'w'が書き込みです。\n",
        "\n",
        "内容の読み込みメソッドは read (全体) または readline（1行ずつ）を使います。1行ずつ読むときは、for文を使うこともできます。書き込みメソッドは　writeです。\n",
        "\n",
        "処理が終われば、closeメソッドでファイルを閉じます。\n"
      ]
    },
    {
      "cell_type": "markdown",
      "metadata": {
        "id": "FYiYuyuhkiVl"
      },
      "source": [
        "プログラミング言語の用途別の有用性を評価したデータをファイルに書き出してみます。（評価値は架空のものです）"
      ]
    },
    {
      "cell_type": "code",
      "execution_count": null,
      "metadata": {
        "id": "Ekt4j8RDIYtL"
      },
      "outputs": [],
      "source": [
        "data = ''', web, mobile, enterprise, embedded\n",
        "Python, 80, 30, 90, 70\n",
        "Java, 85, 60, 85, 40\n",
        "C, 30, 40, 70, 90\n",
        "'''\n",
        "\n",
        "f = open('data.csv', 'w')\n",
        "f.write(data)\n",
        "f.close()"
      ]
    },
    {
      "cell_type": "markdown",
      "metadata": {
        "id": "dp2XzP6AUmQY"
      },
      "source": [
        "このファイルを読み込んで表示します。"
      ]
    },
    {
      "cell_type": "code",
      "execution_count": null,
      "metadata": {
        "colab": {
          "base_uri": "https://localhost:8080/"
        },
        "id": "UOA1bEWXUmbM",
        "outputId": "e565058f-99ec-4bbf-bc67-2d4dd66b8265"
      },
      "outputs": [
        {
          "name": "stdout",
          "output_type": "stream",
          "text": [
            "                     web      mobile  enterprise   embedded\n",
            "      Python          80          30          90         70\n",
            "        Java          85          60          85         40\n",
            "           C          30          40          70         90\n"
          ]
        }
      ],
      "source": [
        "f = open('data.csv', 'r')\n",
        "for line in f:\n",
        "  elems = line.split(',')\n",
        "  for e in elems:\n",
        "    print(f'{e:>12s}', end='')\n",
        "f.close()"
      ]
    },
    {
      "cell_type": "markdown",
      "metadata": {
        "id": "FTLSNvU5Umz7"
      },
      "source": [
        "ファイルの入出力はエラーを起こすことが多いので、プログラムが途中で終わってもcloseされるように、多くの場合は withブロックを使ってファイルの入出力を行います。"
      ]
    },
    {
      "cell_type": "code",
      "execution_count": null,
      "metadata": {
        "colab": {
          "base_uri": "https://localhost:8080/"
        },
        "id": "kNXkdaJqlQQ3",
        "outputId": "eaa93637-52aa-4d6a-95fd-43e1cc1cfc1d"
      },
      "outputs": [
        {
          "name": "stdout",
          "output_type": "stream",
          "text": [
            "                     web      mobile  enterprise   embedded\n",
            "      Python          80          30          90         70\n",
            "        Java          85          60          85         40\n",
            "           C          30          40          70         90\n"
          ]
        }
      ],
      "source": [
        "with open('data.csv', 'r') as f:\n",
        "  for line in f:\n",
        "    elems = line.split(',')\n",
        "    for e in elems:\n",
        "      print(f'{e:>12s}', end='')"
      ]
    }
  ],
  "metadata": {
    "colab": {
      "collapsed_sections": [],
      "name": "pyintro2.ipynb のコピー",
      "provenance": []
    },
    "kernelspec": {
      "display_name": "Python 3",
      "name": "python3"
    },
    "language_info": {
      "name": "python"
    }
  },
  "nbformat": 4,
  "nbformat_minor": 0
}
