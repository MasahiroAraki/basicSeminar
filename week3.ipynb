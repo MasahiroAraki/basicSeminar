{
  "cells": [
    {
      "cell_type": "markdown",
      "metadata": {
        "id": "9t365WgSAI_T"
      },
      "source": [
        "<a href=\"https://colab.research.google.com/github/MasahiroAraki/basicSeminar/blob/master/week3.ipynb\" target=\"_parent\"><img src=\"https://colab.research.google.com/assets/colab-badge.svg\" alt=\"Open In Colab\"/></a>"
      ]
    },
    {
      "cell_type": "markdown",
      "metadata": {
        "id": "yzshjpxJkN_j"
      },
      "source": [
        "# Python入門(3)\n",
        "\n",
        "- 関数\n",
        "- タートルグラフィックス\n",
        "\n",
        "このテキストは [京大 プログラミング演習 Python 2021](http://hdl.handle.net/2433/265459) 7,8章を参考にしています。説明が足りないところはリンク先のテキストで補ってください。"
      ]
    },
    {
      "cell_type": "markdown",
      "metadata": {
        "id": "wXQyUE2IHNGM"
      },
      "source": [
        "# 関数\n",
        "\n",
        "Python入門(1)のプログラム5と6を組み合わせると、入力に対して一定レベルのエラーチェックを行い、高い精度で平方根を求めるプログラムができます。一方、読み込み・演算・表示という基本手順はプログラム1と変わらないのに、コードはかなり長くなっており、全体の見通しが悪くなっています。\n",
        "\n",
        "ここではまとまった処理を関数として定義し、大まかな基本手順と細かな実現部分にわけてコーディングを行います。関数内部で定義された変数はローカルスコープなので関数の外側から参照や変更ができません。これによって関数内での処理が見通しやすくなります。\n",
        "\n",
        "また、関数外部で定義されたグローバル変数について、関数内では参照のみ可能です。変更可能にするためには、関数内で global宣言を行います。"
      ]
    },
    {
      "cell_type": "markdown",
      "metadata": {
        "id": "HUMng2oCuL1g"
      },
      "source": [
        "まず、入力を行う関数の定義は以下のようになります。\n",
        "\n",
        "memo:  \n",
        "インデントを下げるショートカットキーは ctrl+'}'"
      ]
    },
    {
      "cell_type": "code",
      "execution_count": null,
      "metadata": {
        "id": "PLm4gFCTHHka"
      },
      "outputs": [],
      "source": [
        "def input_number():\n",
        "  while True:\n",
        "    x = input('Enter positive number> ')\n",
        "    try:\n",
        "      x = float(x)\n",
        "    except ValueError:\n",
        "      print(f'{x}は数値に変換できません。')\n",
        "      continue\n",
        "    except:\n",
        "      print('予期せぬエラーです')\n",
        "      sys.exit()\n",
        "    if x <= 0:\n",
        "      print(f'{x}は正の数値ではありません。')\n",
        "      continue\n",
        "    break\n",
        "  return x"
      ]
    },
    {
      "cell_type": "markdown",
      "metadata": {
        "id": "djWxKspPvU4f"
      },
      "source": [
        "平方根を求める関数の定義は以下のようになります。"
      ]
    },
    {
      "cell_type": "code",
      "execution_count": null,
      "metadata": {
        "id": "kjURTqNZvVBe"
      },
      "outputs": [],
      "source": [
        "def square_root(x):\n",
        "  rnew = x\n",
        "  while True:\n",
        "    r1 = rnew\n",
        "    r2 = x/r1\n",
        "    rnew = (r1 + r2)/2\n",
        "    if abs(r1 - r2) < 1.0E-6:\n",
        "      break\n",
        "  return rnew"
      ]
    },
    {
      "cell_type": "markdown",
      "metadata": {
        "id": "Pft_4fbYvVI5"
      },
      "source": [
        "全体の手順は以下のようになります。"
      ]
    },
    {
      "cell_type": "code",
      "execution_count": null,
      "metadata": {
        "colab": {
          "base_uri": "https://localhost:8080/"
        },
        "id": "sN2luqNavVPx",
        "outputId": "1599f4f6-89ea-4d73-fdd1-87adadfb5827"
      },
      "outputs": [
        {
          "name": "stdout",
          "output_type": "stream",
          "text": [
            "Enter positive number> 3\n",
            "Square root of 3.0 is 1.7320508075688772.\n"
          ]
        }
      ],
      "source": [
        "x = input_number()\n",
        "sq = square_root(x)\n",
        "print(f'Square root of {x} is {sq}.')"
      ]
    },
    {
      "cell_type": "markdown",
      "metadata": {
        "id": "OAcC1rpwvVWO"
      },
      "source": [
        "### プログラム7\n",
        "\n",
        "上の3つのコードをまとめたものです。"
      ]
    },
    {
      "cell_type": "code",
      "execution_count": null,
      "metadata": {
        "colab": {
          "base_uri": "https://localhost:8080/"
        },
        "id": "mQuTqo1wvVc5",
        "outputId": "f4a7c6e5-d693-4b1c-ab3e-1765d101a95e"
      },
      "outputs": [
        {
          "name": "stdout",
          "output_type": "stream",
          "text": [
            "Enter positive number> 3\n",
            "Square root of 3.0 is 1.7320508075688772.\n"
          ]
        }
      ],
      "source": [
        "%reset -f\n",
        "# 平方根を求めるプログラム\n",
        "import sys\n",
        "\n",
        "def input_number():\n",
        "  while True:\n",
        "    x = input('Enter positive number> ')\n",
        "    try:\n",
        "      x = float(x)\n",
        "    except ValueError:\n",
        "      print(f'{x}は数値に変換できません。')\n",
        "      continue\n",
        "    except:\n",
        "      print('予期せぬエラーです')\n",
        "      sys.exit()\n",
        "    if x <= 0:\n",
        "      print(f'{x}は正の数値ではありません。')\n",
        "      continue\n",
        "    break\n",
        "  return x\n",
        "\n",
        "def square_root(x):\n",
        "  rnew = x\n",
        "  while True:\n",
        "    r1 = rnew\n",
        "    r2 = x/r1\n",
        "    rnew = (r1 + r2)/2\n",
        "    if r1 - r2 < 1.0E-6:\n",
        "      break\n",
        "  return rnew\n",
        "\n",
        "x = input_number()\n",
        "sq = square_root(x)\n",
        "print(f'Square root of {x} is {sq}.')"
      ]
    },
    {
      "cell_type": "markdown",
      "metadata": {
        "id": "R_PRwkG6xjkW"
      },
      "source": [
        "## デフォルト引数\n",
        "\n",
        "ここで関数 square_root内で繰り返しを打ち切る精度の値がコード中に直接書かれているのはあまり好ましくありません。グローバル定数とする方法もありますが、この定数定義を忘れると関数内でエラーが発生してしまいます。\n",
        "\n",
        "そこで、関数の仕様を変更します。第2引数として精度を与えることができるようにして、もし第2引数が指定されていなければデフォルト値を使えるよう、デフォルト引数とします。なお、デフォルト引数が複数になったときに、任意のものが省略可能になって定義順に意味がなくなるので、デフォルト引数はキーワード引数として呼び出すのが無難です。"
      ]
    },
    {
      "cell_type": "code",
      "execution_count": null,
      "metadata": {
        "id": "5hwPujPDxjvf"
      },
      "outputs": [],
      "source": [
        "%reset -f\n",
        "def square_root(x, eps=1.0E-6):\n",
        "  rnew = x\n",
        "  while True:\n",
        "    r1 = rnew\n",
        "    r2 = x/r1\n",
        "    rnew = (r1 + r2)/2\n",
        "    if r1 - r2 < eps:\n",
        "      break\n",
        "  return rnew"
      ]
    },
    {
      "cell_type": "code",
      "execution_count": null,
      "metadata": {
        "colab": {
          "base_uri": "https://localhost:8080/"
        },
        "id": "F6pW_Q7WyWU6",
        "outputId": "95aa5a3c-f314-4fc4-86c9-e2cf57a7a54f"
      },
      "outputs": [
        {
          "data": {
            "text/plain": [
              "1.4142156862745097"
            ]
          },
          "execution_count": 6,
          "metadata": {},
          "output_type": "execute_result"
        }
      ],
      "source": [
        "# 仮引数の順に実引数を与えて呼び出す\n",
        "square_root(2, 1.0E-2)"
      ]
    },
    {
      "cell_type": "code",
      "execution_count": null,
      "metadata": {
        "colab": {
          "base_uri": "https://localhost:8080/"
        },
        "id": "WcYVaIZ8yWo0",
        "outputId": "025d0fc3-75c2-482b-d227-8979ac24eb65"
      },
      "outputs": [
        {
          "data": {
            "text/plain": [
              "1.414213562373095"
            ]
          },
          "execution_count": 8,
          "metadata": {},
          "output_type": "execute_result"
        }
      ],
      "source": [
        "# キーワード引数で呼び出す\n",
        "square_root(2, eps=1.0E-6)"
      ]
    },
    {
      "cell_type": "markdown",
      "metadata": {
        "id": "tBp6OqBEHMEM"
      },
      "source": [
        "# タートルグラフィックス\n",
        "\n",
        "京大テキストの8章の内容をColabで実行する場合は、以下のコードを参考にしてください。"
      ]
    },
    {
      "cell_type": "code",
      "execution_count": null,
      "metadata": {
        "colab": {
          "base_uri": "https://localhost:8080/"
        },
        "id": "XFreIr7GHML1",
        "outputId": "b52ef83a-96be-49bd-a221-beae11d1e029"
      },
      "outputs": [
        {
          "name": "stdout",
          "output_type": "stream",
          "text": [
            "Collecting ColabTurtle\n",
            "  Downloading ColabTurtle-2.1.0.tar.gz (6.8 kB)\n",
            "Building wheels for collected packages: ColabTurtle\n",
            "  Building wheel for ColabTurtle (setup.py) ... \u001b[?25l\u001b[?25hdone\n",
            "  Created wheel for ColabTurtle: filename=ColabTurtle-2.1.0-py3-none-any.whl size=7657 sha256=31cbeb19905faa9427ff34892ae8cd9a48c74ae7267099d9d17aed7bae103d4f\n",
            "  Stored in directory: /root/.cache/pip/wheels/0d/ab/65/cc4478508751448dfb4ecb20a6533082855c227dfce8c13902\n",
            "Successfully built ColabTurtle\n",
            "Installing collected packages: ColabTurtle\n",
            "Successfully installed ColabTurtle-2.1.0\n"
          ]
        }
      ],
      "source": [
        "!pip install ColabTurtle\n",
        "import ColabTurtle.Turtle as turtle"
      ]
    },
    {
      "cell_type": "code",
      "execution_count": null,
      "metadata": {
        "colab": {
          "base_uri": "https://localhost:8080/",
          "height": 522
        },
        "id": "ZjuuKkp4HfAB",
        "outputId": "36752e0f-1eb9-40b3-9f33-f6b615dd4f7a"
      },
      "outputs": [
        {
          "data": {
            "text/html": [
              "\n",
              "      <svg width=\"800\" height=\"500\">\n",
              "        <rect width=\"100%\" height=\"100%\" fill=\"black\"/>\n",
              "        <line x1=\"400\" y1=\"250\" x2=\"400.0\" y2=\"150.0\" stroke-linecap=\"round\" style=\"stroke:white;stroke-width:4\"/><line x1=\"400.0\" y1=\"150.0\" x2=\"300.0\" y2=\"150.0\" stroke-linecap=\"round\" style=\"stroke:white;stroke-width:4\"/>\n",
              "        <g visibility=visible transform=\"rotate(270,300.0,150.0) translate(282.0, 132.0)\">\n",
              "<path style=\" stroke:none;fill-rule:evenodd;fill:white;fill-opacity:1;\" d=\"M 18.214844 0.632812 C 16.109375 1.800781 15.011719 4.074219 15.074219 7.132812 L 15.085938 7.652344 L 14.785156 7.496094 C 13.476562 6.824219 11.957031 6.671875 10.40625 7.066406 C 8.46875 7.550781 6.515625 9.15625 4.394531 11.992188 C 3.0625 13.777344 2.679688 14.636719 3.042969 15.027344 L 3.15625 15.152344 L 3.519531 15.152344 C 4.238281 15.152344 4.828125 14.886719 8.1875 13.039062 C 9.386719 12.378906 10.371094 11.839844 10.378906 11.839844 C 10.386719 11.839844 10.355469 11.929688 10.304688 12.035156 C 9.832031 13.09375 9.257812 14.820312 8.96875 16.078125 C 7.914062 20.652344 8.617188 24.53125 11.070312 27.660156 C 11.351562 28.015625 11.363281 27.914062 10.972656 28.382812 C 8.925781 30.84375 7.945312 33.28125 8.238281 35.1875 C 8.289062 35.527344 8.28125 35.523438 8.917969 35.523438 C 10.941406 35.523438 13.074219 34.207031 15.136719 31.6875 C 15.359375 31.417969 15.328125 31.425781 15.5625 31.574219 C 16.292969 32.042969 18.023438 32.964844 18.175781 32.964844 C 18.335938 32.964844 19.941406 32.210938 20.828125 31.71875 C 20.996094 31.625 21.136719 31.554688 21.136719 31.558594 C 21.203125 31.664062 21.898438 32.414062 22.222656 32.730469 C 23.835938 34.300781 25.5625 35.132812 27.582031 35.300781 C 27.90625 35.328125 27.9375 35.308594 28.007812 34.984375 C 28.382812 33.242188 27.625 30.925781 25.863281 28.425781 L 25.542969 27.96875 L 25.699219 27.785156 C 28.945312 23.960938 29.132812 18.699219 26.257812 11.96875 L 26.207031 11.84375 L 27.945312 12.703125 C 31.53125 14.476562 32.316406 14.800781 33.03125 14.800781 C 33.976562 14.800781 33.78125 13.9375 32.472656 12.292969 C 28.519531 7.355469 25.394531 5.925781 21.921875 7.472656 L 21.558594 7.636719 L 21.578125 7.542969 C 21.699219 6.992188 21.761719 5.742188 21.699219 5.164062 C 21.496094 3.296875 20.664062 1.964844 19.003906 0.855469 C 18.480469 0.503906 18.457031 0.5 18.214844 0.632812\"/>\n",
              "</g>\n",
              "      </svg>\n",
              "    "
            ],
            "text/plain": [
              "<IPython.core.display.HTML object>"
            ]
          },
          "metadata": {},
          "output_type": "display_data"
        }
      ],
      "source": [
        "turtle.initializeTurtle()\n",
        "turtle.pendown()\n",
        "\n",
        "turtle.forward(100)\n",
        "turtle.left(90)\n",
        "turtle.forward(100)"
      ]
    }
  ],
  "metadata": {
    "colab": {
      "collapsed_sections": [],
      "name": "pyintro2.ipynb のコピー",
      "provenance": []
    },
    "kernelspec": {
      "display_name": "Python 3",
      "name": "python3"
    },
    "language_info": {
      "name": "python"
    }
  },
  "nbformat": 4,
  "nbformat_minor": 0
}
