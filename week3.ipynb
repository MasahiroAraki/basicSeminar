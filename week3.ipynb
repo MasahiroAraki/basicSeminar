{
  "cells": [
    {
      "cell_type": "markdown",
      "metadata": {
        "id": "9t365WgSAI_T"
      },
      "source": [
        "<a href=\"https://colab.research.google.com/github/MasahiroAraki/basicSeminar/blob/master/week3.ipynb\" target=\"_parent\"><img src=\"https://colab.research.google.com/assets/colab-badge.svg\" alt=\"Open In Colab\"/></a>"
      ]
    },
    {
      "cell_type": "markdown",
      "metadata": {
        "id": "yzshjpxJkN_j"
      },
      "source": [
        "# Python入門(3)\n",
        "\n",
        "- 関数\n",
        "- タートルグラフィックス\n",
        "\n",
        "このテキストは [京大 プログラミング演習 Python 2021](http://hdl.handle.net/2433/265459) 7,8章を参考にしています。説明が足りないところはリンク先のテキストで補ってください。"
      ]
    },
    {
      "cell_type": "markdown",
      "metadata": {
        "id": "wXQyUE2IHNGM"
      },
      "source": [
        "# 関数\n",
        "\n",
        "Python入門(1)のプログラム5と6を組み合わせると、入力に対して一定レベルのエラーチェックを行い、高い精度で平方根を求めるプログラムができます。一方、読み込み・演算・表示という基本手順はプログラム1と変わらないのに、コードはかなり長くなっており、全体の見通しが悪くなっています。\n",
        "\n",
        "ここではまとまった処理を関数として定義し、大まかな基本手順と細かな実現部分にわけてコーディングを行います。関数内部で定義された変数はローカルスコープなので関数の外側から参照や変更ができません。これによって関数内での処理が見通しやすくなります。\n",
        "\n",
        "また、関数外部で定義されたグローバル変数について、関数内では参照のみ可能です。変更可能にするためには、関数内で global宣言を行います。"
      ]
    },
    {
      "cell_type": "markdown",
      "metadata": {
        "id": "HUMng2oCuL1g"
      },
      "source": [
        "まず、入力を行う関数の定義は以下のようになります。\n",
        "\n",
        "memo:  \n",
        "インデントを下げるショートカットキーは ctrl+'}'"
      ]
    },
    {
      "cell_type": "code",
      "execution_count": 1,
      "metadata": {
        "id": "PLm4gFCTHHka"
      },
      "outputs": [],
      "source": [
        "def input_number():\n",
        "  while True:\n",
        "    x = input('Enter positive number> ')\n",
        "    try:\n",
        "      x = float(x)\n",
        "    except ValueError:\n",
        "      print(f'{x}は数値に変換できません。')\n",
        "      continue\n",
        "    except:\n",
        "      print('予期せぬエラーです')\n",
        "      sys.exit()\n",
        "    if x <= 0:\n",
        "      print(f'{x}は正の数値ではありません。')\n",
        "      continue\n",
        "    break\n",
        "  return x"
      ]
    },
    {
      "cell_type": "markdown",
      "metadata": {
        "id": "djWxKspPvU4f"
      },
      "source": [
        "平方根を求める関数の定義は以下のようになります。"
      ]
    },
    {
      "cell_type": "code",
      "execution_count": 2,
      "metadata": {
        "id": "kjURTqNZvVBe"
      },
      "outputs": [],
      "source": [
        "def square_root(x):\n",
        "  rnew = x\n",
        "  while True:\n",
        "    r1 = rnew\n",
        "    r2 = x/r1\n",
        "    rnew = (r1 + r2)/2\n",
        "    if abs(r1 - r2) < 1.0E-6:\n",
        "      break\n",
        "  return rnew"
      ]
    },
    {
      "cell_type": "markdown",
      "metadata": {
        "id": "Pft_4fbYvVI5"
      },
      "source": [
        "全体の手順は以下のようになります。"
      ]
    },
    {
      "cell_type": "code",
      "execution_count": 3,
      "metadata": {
        "colab": {
          "base_uri": "https://localhost:8080/"
        },
        "id": "sN2luqNavVPx",
        "outputId": "0ceac1f0-05d0-4a1f-9a58-1d3966bb12ed"
      },
      "outputs": [
        {
          "output_type": "stream",
          "name": "stdout",
          "text": [
            "Enter positive number> 3\n",
            "Square root of 3.0 is 1.7320508075688772.\n"
          ]
        }
      ],
      "source": [
        "x = input_number()\n",
        "sq = square_root(x)\n",
        "print(f'Square root of {x} is {sq}.')"
      ]
    },
    {
      "cell_type": "markdown",
      "metadata": {
        "id": "OAcC1rpwvVWO"
      },
      "source": [
        "### プログラム7\n",
        "\n",
        "上の3つのコードをまとめたものです。"
      ]
    },
    {
      "cell_type": "code",
      "execution_count": 4,
      "metadata": {
        "colab": {
          "base_uri": "https://localhost:8080/"
        },
        "id": "mQuTqo1wvVc5",
        "outputId": "bbcce771-24ac-49d4-b67c-7330e80ada3c"
      },
      "outputs": [
        {
          "output_type": "stream",
          "name": "stdout",
          "text": [
            "Enter positive number> 2\n",
            "Square root of 2.0 is 1.414213562373095.\n"
          ]
        }
      ],
      "source": [
        "%reset -f\n",
        "# 平方根を求めるプログラム\n",
        "import sys\n",
        "\n",
        "def input_number():\n",
        "  while True:\n",
        "    x = input('Enter positive number> ')\n",
        "    try:\n",
        "      x = float(x)\n",
        "    except ValueError:\n",
        "      print(f'{x}は数値に変換できません。')\n",
        "      continue\n",
        "    except:\n",
        "      print('予期せぬエラーです')\n",
        "      sys.exit()\n",
        "    if x <= 0:\n",
        "      print(f'{x}は正の数値ではありません。')\n",
        "      continue\n",
        "    break\n",
        "  return x\n",
        "\n",
        "def square_root(x):\n",
        "  rnew = x\n",
        "  while True:\n",
        "    r1 = rnew\n",
        "    r2 = x/r1\n",
        "    rnew = (r1 + r2)/2\n",
        "    if r1 - r2 < 1.0E-6:\n",
        "      break\n",
        "  return rnew\n",
        "\n",
        "x = input_number()\n",
        "sq = square_root(x)\n",
        "print(f'Square root of {x} is {sq}.')"
      ]
    },
    {
      "cell_type": "markdown",
      "metadata": {
        "id": "R_PRwkG6xjkW"
      },
      "source": [
        "## デフォルト引数\n",
        "\n",
        "ここで関数 square_root内で繰り返しを打ち切る精度の値がコード中に直接書かれているのはあまり好ましくありません。グローバル定数とする方法もありますが、この定数定義を忘れると関数内でエラーが発生してしまいます。\n",
        "\n",
        "そこで、関数の仕様を変更します。第2引数として精度を与えることができるようにして、もし第2引数が指定されていなければデフォルト値を使えるよう、デフォルト引数とします。なお、デフォルト引数が複数になったときに、任意のものが省略可能になって定義順に意味がなくなるので、デフォルト引数はキーワード引数として呼び出すのが無難です。"
      ]
    },
    {
      "cell_type": "code",
      "execution_count": 5,
      "metadata": {
        "id": "5hwPujPDxjvf"
      },
      "outputs": [],
      "source": [
        "%reset -f\n",
        "def square_root(x, eps=1.0E-6):\n",
        "  rnew = x\n",
        "  while True:\n",
        "    r1 = rnew\n",
        "    r2 = x/r1\n",
        "    rnew = (r1 + r2)/2\n",
        "    if r1 - r2 < eps:\n",
        "      break\n",
        "  return rnew"
      ]
    },
    {
      "cell_type": "code",
      "execution_count": 6,
      "metadata": {
        "colab": {
          "base_uri": "https://localhost:8080/"
        },
        "id": "F6pW_Q7WyWU6",
        "outputId": "88fc9f85-012e-4c8e-efb9-9ca8eeebbaf7"
      },
      "outputs": [
        {
          "output_type": "execute_result",
          "data": {
            "text/plain": [
              "1.4142156862745097"
            ]
          },
          "metadata": {},
          "execution_count": 6
        }
      ],
      "source": [
        "# 仮引数の順に実引数を与えて呼び出す\n",
        "square_root(2, 1.0E-2)"
      ]
    },
    {
      "cell_type": "code",
      "execution_count": 7,
      "metadata": {
        "colab": {
          "base_uri": "https://localhost:8080/"
        },
        "id": "WcYVaIZ8yWo0",
        "outputId": "7af093a0-13ea-409d-b41a-4bc83e83cce4"
      },
      "outputs": [
        {
          "output_type": "execute_result",
          "data": {
            "text/plain": [
              "1.414213562373095"
            ]
          },
          "metadata": {},
          "execution_count": 7
        }
      ],
      "source": [
        "# キーワード引数で呼び出す\n",
        "square_root(2, eps=1.0E-6)"
      ]
    },
    {
      "cell_type": "markdown",
      "metadata": {
        "id": "tBp6OqBEHMEM"
      },
      "source": [
        "# タートルグラフィックス\n",
        "\n",
        "京大テキストの8章の内容をColabで実行する場合は、ColabTurtleライブラリをインストールします\n",
        "\n",
        "(注) ColabTurtleにはメソッドdone()やonscreenclick()がありません。使えるメソッドは[コード配布サイト](https://github.com/tolgaatam/ColabTurtle)で調べてください\n"
      ]
    },
    {
      "cell_type": "code",
      "execution_count": 8,
      "metadata": {
        "colab": {
          "base_uri": "https://localhost:8080/"
        },
        "id": "XFreIr7GHML1",
        "outputId": "a85ad8c4-f582-491a-c98f-2b01fdbe4333"
      },
      "outputs": [
        {
          "output_type": "stream",
          "name": "stdout",
          "text": [
            "Looking in indexes: https://pypi.org/simple, https://us-python.pkg.dev/colab-wheels/public/simple/\n",
            "Collecting ColabTurtle\n",
            "  Downloading ColabTurtle-2.1.0.tar.gz (6.8 kB)\n",
            "Building wheels for collected packages: ColabTurtle\n",
            "  Building wheel for ColabTurtle (setup.py) ... \u001b[?25l\u001b[?25hdone\n",
            "  Created wheel for ColabTurtle: filename=ColabTurtle-2.1.0-py3-none-any.whl size=7657 sha256=cbf267a74c13342a59ed38f1802b74ac385c939c159cab06fc905564b33df64e\n",
            "  Stored in directory: /root/.cache/pip/wheels/0d/ab/65/cc4478508751448dfb4ecb20a6533082855c227dfce8c13902\n",
            "Successfully built ColabTurtle\n",
            "Installing collected packages: ColabTurtle\n",
            "Successfully installed ColabTurtle-2.1.0\n"
          ]
        }
      ],
      "source": [
        "!pip install ColabTurtle"
      ]
    },
    {
      "cell_type": "markdown",
      "source": [
        "１つのタートルを関数呼び出しで操作する手続き指向の書き方"
      ],
      "metadata": {
        "id": "M4587xaDPY6L"
      }
    },
    {
      "cell_type": "code",
      "source": [
        "from ColabTurtle.Turtle import *\n",
        "\n",
        "initializeTurtle()\n",
        "pendown()\n",
        "\n",
        "forward(100)\n",
        "left(90)\n",
        "forward(100)"
      ],
      "metadata": {
        "colab": {
          "base_uri": "https://localhost:8080/",
          "height": 521
        },
        "id": "HW09Xk-pPHmR",
        "outputId": "30a41ce2-0a5f-4643-f51a-187b9016860f"
      },
      "execution_count": 9,
      "outputs": [
        {
          "output_type": "display_data",
          "data": {
            "text/plain": [
              "<IPython.core.display.HTML object>"
            ],
            "text/html": [
              "\n",
              "      <svg width=\"800\" height=\"500\">\n",
              "        <rect width=\"100%\" height=\"100%\" fill=\"black\"/>\n",
              "        <line x1=\"400\" y1=\"250\" x2=\"400.0\" y2=\"150.0\" stroke-linecap=\"round\" style=\"stroke:white;stroke-width:4\"/><line x1=\"400.0\" y1=\"150.0\" x2=\"300.0\" y2=\"150.0\" stroke-linecap=\"round\" style=\"stroke:white;stroke-width:4\"/>\n",
              "        <g visibility=visible transform=\"rotate(270,300.0,150.0) translate(282.0, 132.0)\">\n",
              "<path style=\" stroke:none;fill-rule:evenodd;fill:white;fill-opacity:1;\" d=\"M 18.214844 0.632812 C 16.109375 1.800781 15.011719 4.074219 15.074219 7.132812 L 15.085938 7.652344 L 14.785156 7.496094 C 13.476562 6.824219 11.957031 6.671875 10.40625 7.066406 C 8.46875 7.550781 6.515625 9.15625 4.394531 11.992188 C 3.0625 13.777344 2.679688 14.636719 3.042969 15.027344 L 3.15625 15.152344 L 3.519531 15.152344 C 4.238281 15.152344 4.828125 14.886719 8.1875 13.039062 C 9.386719 12.378906 10.371094 11.839844 10.378906 11.839844 C 10.386719 11.839844 10.355469 11.929688 10.304688 12.035156 C 9.832031 13.09375 9.257812 14.820312 8.96875 16.078125 C 7.914062 20.652344 8.617188 24.53125 11.070312 27.660156 C 11.351562 28.015625 11.363281 27.914062 10.972656 28.382812 C 8.925781 30.84375 7.945312 33.28125 8.238281 35.1875 C 8.289062 35.527344 8.28125 35.523438 8.917969 35.523438 C 10.941406 35.523438 13.074219 34.207031 15.136719 31.6875 C 15.359375 31.417969 15.328125 31.425781 15.5625 31.574219 C 16.292969 32.042969 18.023438 32.964844 18.175781 32.964844 C 18.335938 32.964844 19.941406 32.210938 20.828125 31.71875 C 20.996094 31.625 21.136719 31.554688 21.136719 31.558594 C 21.203125 31.664062 21.898438 32.414062 22.222656 32.730469 C 23.835938 34.300781 25.5625 35.132812 27.582031 35.300781 C 27.90625 35.328125 27.9375 35.308594 28.007812 34.984375 C 28.382812 33.242188 27.625 30.925781 25.863281 28.425781 L 25.542969 27.96875 L 25.699219 27.785156 C 28.945312 23.960938 29.132812 18.699219 26.257812 11.96875 L 26.207031 11.84375 L 27.945312 12.703125 C 31.53125 14.476562 32.316406 14.800781 33.03125 14.800781 C 33.976562 14.800781 33.78125 13.9375 32.472656 12.292969 C 28.519531 7.355469 25.394531 5.925781 21.921875 7.472656 L 21.558594 7.636719 L 21.578125 7.542969 C 21.699219 6.992188 21.761719 5.742188 21.699219 5.164062 C 21.496094 3.296875 20.664062 1.964844 19.003906 0.855469 C 18.480469 0.503906 18.457031 0.5 18.214844 0.632812\"/>\n",
              "</g>\n",
              "      </svg>\n",
              "    "
            ]
          },
          "metadata": {}
        }
      ]
    },
    {
      "cell_type": "markdown",
      "source": [
        "正n角形を書く"
      ],
      "metadata": {
        "id": "a76kGAfSPmFe"
      }
    },
    {
      "cell_type": "code",
      "source": [
        "%reset -f\n",
        "from ColabTurtle.Turtle import *\n",
        "\n",
        "initializeTurtle()\n",
        "pendown()\n",
        "\n",
        "n = 5\n",
        "right(90)\n",
        "for i in range(n):\n",
        "  forward(100)\n",
        "  left(360/n)"
      ],
      "metadata": {
        "id": "eY5uU8hxOi_R",
        "colab": {
          "base_uri": "https://localhost:8080/",
          "height": 521
        },
        "outputId": "e8ffd303-7e50-40dd-e5dc-7eb037bbc743"
      },
      "execution_count": 10,
      "outputs": [
        {
          "output_type": "display_data",
          "data": {
            "text/plain": [
              "<IPython.core.display.HTML object>"
            ],
            "text/html": [
              "\n",
              "      <svg width=\"800\" height=\"500\">\n",
              "        <rect width=\"100%\" height=\"100%\" fill=\"black\"/>\n",
              "        <line x1=\"400\" y1=\"250\" x2=\"500.0\" y2=\"250.0\" stroke-linecap=\"round\" style=\"stroke:white;stroke-width:4\"/><line x1=\"500.0\" y1=\"250.0\" x2=\"530.902\" y2=\"154.894\" stroke-linecap=\"round\" style=\"stroke:white;stroke-width:4\"/><line x1=\"530.902\" y1=\"154.894\" x2=\"450.0\" y2=\"96.115\" stroke-linecap=\"round\" style=\"stroke:white;stroke-width:4\"/><line x1=\"450.0\" y1=\"96.115\" x2=\"369.098\" y2=\"154.894\" stroke-linecap=\"round\" style=\"stroke:white;stroke-width:4\"/><line x1=\"369.098\" y1=\"154.894\" x2=\"400.0\" y2=\"250.0\" stroke-linecap=\"round\" style=\"stroke:white;stroke-width:4\"/>\n",
              "        <g visibility=visible transform=\"rotate(90.0,400.0,250.0) translate(382.0, 232.0)\">\n",
              "<path style=\" stroke:none;fill-rule:evenodd;fill:white;fill-opacity:1;\" d=\"M 18.214844 0.632812 C 16.109375 1.800781 15.011719 4.074219 15.074219 7.132812 L 15.085938 7.652344 L 14.785156 7.496094 C 13.476562 6.824219 11.957031 6.671875 10.40625 7.066406 C 8.46875 7.550781 6.515625 9.15625 4.394531 11.992188 C 3.0625 13.777344 2.679688 14.636719 3.042969 15.027344 L 3.15625 15.152344 L 3.519531 15.152344 C 4.238281 15.152344 4.828125 14.886719 8.1875 13.039062 C 9.386719 12.378906 10.371094 11.839844 10.378906 11.839844 C 10.386719 11.839844 10.355469 11.929688 10.304688 12.035156 C 9.832031 13.09375 9.257812 14.820312 8.96875 16.078125 C 7.914062 20.652344 8.617188 24.53125 11.070312 27.660156 C 11.351562 28.015625 11.363281 27.914062 10.972656 28.382812 C 8.925781 30.84375 7.945312 33.28125 8.238281 35.1875 C 8.289062 35.527344 8.28125 35.523438 8.917969 35.523438 C 10.941406 35.523438 13.074219 34.207031 15.136719 31.6875 C 15.359375 31.417969 15.328125 31.425781 15.5625 31.574219 C 16.292969 32.042969 18.023438 32.964844 18.175781 32.964844 C 18.335938 32.964844 19.941406 32.210938 20.828125 31.71875 C 20.996094 31.625 21.136719 31.554688 21.136719 31.558594 C 21.203125 31.664062 21.898438 32.414062 22.222656 32.730469 C 23.835938 34.300781 25.5625 35.132812 27.582031 35.300781 C 27.90625 35.328125 27.9375 35.308594 28.007812 34.984375 C 28.382812 33.242188 27.625 30.925781 25.863281 28.425781 L 25.542969 27.96875 L 25.699219 27.785156 C 28.945312 23.960938 29.132812 18.699219 26.257812 11.96875 L 26.207031 11.84375 L 27.945312 12.703125 C 31.53125 14.476562 32.316406 14.800781 33.03125 14.800781 C 33.976562 14.800781 33.78125 13.9375 32.472656 12.292969 C 28.519531 7.355469 25.394531 5.925781 21.921875 7.472656 L 21.558594 7.636719 L 21.578125 7.542969 C 21.699219 6.992188 21.761719 5.742188 21.699219 5.164062 C 21.496094 3.296875 20.664062 1.964844 19.003906 0.855469 C 18.480469 0.503906 18.457031 0.5 18.214844 0.632812\"/>\n",
              "</g>\n",
              "      </svg>\n",
              "    "
            ]
          },
          "metadata": {}
        }
      ]
    },
    {
      "cell_type": "markdown",
      "source": [
        "複数のタートルを動かすオブジェクト指向の書き方をするには、ColabTurtlePlusをインストールします"
      ],
      "metadata": {
        "id": "ZdrotnLdRW7U"
      }
    },
    {
      "cell_type": "code",
      "source": [
        "!pip install ColabTurtlePlus"
      ],
      "metadata": {
        "colab": {
          "base_uri": "https://localhost:8080/"
        },
        "id": "NSxVEq12Tk6e",
        "outputId": "df53de8a-c868-4888-e5ca-5d6b885e727b"
      },
      "execution_count": 11,
      "outputs": [
        {
          "output_type": "stream",
          "name": "stdout",
          "text": [
            "Looking in indexes: https://pypi.org/simple, https://us-python.pkg.dev/colab-wheels/public/simple/\n",
            "Collecting ColabTurtlePlus\n",
            "  Downloading ColabTurtlePlus-2.0.1-py3-none-any.whl (31 kB)\n",
            "Installing collected packages: ColabTurtlePlus\n",
            "Successfully installed ColabTurtlePlus-2.0.1\n"
          ]
        }
      ]
    },
    {
      "cell_type": "code",
      "source": [
        "%reset -f\n",
        "from ColabTurtlePlus.Turtle import *\n",
        "clearscreen()\n",
        "\n",
        "t1 = Turtle()\n",
        "t2 = Turtle()\n",
        "t1.color('red')\n",
        "t2.color('blue')\n",
        "for i in range(180):\n",
        "  t1.forward(5)\n",
        "  t2.forward(3)\n",
        "  t1.left(2)\n",
        "  t2.left(2)"
      ],
      "metadata": {
        "colab": {
          "base_uri": "https://localhost:8080/",
          "height": 639
        },
        "id": "ixwQS0mURXPz",
        "outputId": "699006bc-0190-455e-8f42-481e8702813b"
      },
      "execution_count": 12,
      "outputs": [
        {
          "output_type": "stream",
          "name": "stdout",
          "text": [
            "Put clearscreen() as the first line in a cell (after the import command) to re-run turtle commands in the cell\n"
          ]
        },
        {
          "output_type": "display_data",
          "data": {
            "text/plain": [
              "<IPython.core.display.HTML object>"
            ],
            "text/html": [
              "\n",
              "      <svg width=\"800\" height=\"600\">  \n",
              "        <rect width=\"100%\" height=\"100%\" style=\"fill:white;stroke:;stroke-width:1\"/>\n",
              "        \n",
              "        \n",
              "        <line x1=\"400.0\" y1=\"300.0\" x2=\"405.0\" y2=\"300.0\" stroke-linecap=\"round\" style=\"stroke:red;stroke-width:1\" /><line x1=\"405.0\" y1=\"300.0\" x2=\"409.997\" y2=\"299.826\" stroke-linecap=\"round\" style=\"stroke:red;stroke-width:1\" /><line x1=\"409.997\" y1=\"299.826\" x2=\"414.985\" y2=\"299.477\" stroke-linecap=\"round\" style=\"stroke:red;stroke-width:1\" /><line x1=\"414.985\" y1=\"299.477\" x2=\"419.958\" y2=\"298.954\" stroke-linecap=\"round\" style=\"stroke:red;stroke-width:1\" /><line x1=\"419.958\" y1=\"298.954\" x2=\"424.909\" y2=\"298.258\" stroke-linecap=\"round\" style=\"stroke:red;stroke-width:1\" /><line x1=\"424.909\" y1=\"298.258\" x2=\"429.833\" y2=\"297.39\" stroke-linecap=\"round\" style=\"stroke:red;stroke-width:1\" /><line x1=\"429.833\" y1=\"297.39\" x2=\"434.724\" y2=\"296.35\" stroke-linecap=\"round\" style=\"stroke:red;stroke-width:1\" /><line x1=\"434.724\" y1=\"296.35\" x2=\"439.575\" y2=\"295.14\" stroke-linecap=\"round\" style=\"stroke:red;stroke-width:1\" /><line x1=\"439.575\" y1=\"295.14\" x2=\"444.381\" y2=\"293.762\" stroke-linecap=\"round\" style=\"stroke:red;stroke-width:1\" /><line x1=\"444.381\" y1=\"293.762\" x2=\"449.136\" y2=\"292.217\" stroke-linecap=\"round\" style=\"stroke:red;stroke-width:1\" /><line x1=\"449.136\" y1=\"292.217\" x2=\"453.834\" y2=\"290.507\" stroke-linecap=\"round\" style=\"stroke:red;stroke-width:1\" /><line x1=\"453.834\" y1=\"290.507\" x2=\"458.47\" y2=\"288.634\" stroke-linecap=\"round\" style=\"stroke:red;stroke-width:1\" /><line x1=\"458.47\" y1=\"288.634\" x2=\"463.038\" y2=\"286.6\" stroke-linecap=\"round\" style=\"stroke:red;stroke-width:1\" /><line x1=\"463.038\" y1=\"286.6\" x2=\"467.532\" y2=\"284.408\" stroke-linecap=\"round\" style=\"stroke:red;stroke-width:1\" /><line x1=\"467.532\" y1=\"284.408\" x2=\"471.947\" y2=\"282.061\" stroke-linecap=\"round\" style=\"stroke:red;stroke-width:1\" /><line x1=\"471.947\" y1=\"282.061\" x2=\"476.277\" y2=\"279.561\" stroke-linecap=\"round\" style=\"stroke:red;stroke-width:1\" /><line x1=\"476.277\" y1=\"279.561\" x2=\"480.517\" y2=\"276.911\" stroke-linecap=\"round\" style=\"stroke:red;stroke-width:1\" /><line x1=\"480.517\" y1=\"276.911\" x2=\"484.662\" y2=\"274.115\" stroke-linecap=\"round\" style=\"stroke:red;stroke-width:1\" /><line x1=\"484.662\" y1=\"274.115\" x2=\"488.707\" y2=\"271.176\" stroke-linecap=\"round\" style=\"stroke:red;stroke-width:1\" /><line x1=\"488.707\" y1=\"271.176\" x2=\"492.647\" y2=\"268.098\" stroke-linecap=\"round\" style=\"stroke:red;stroke-width:1\" /><line x1=\"492.647\" y1=\"268.098\" x2=\"496.477\" y2=\"264.884\" stroke-linecap=\"round\" style=\"stroke:red;stroke-width:1\" /><line x1=\"496.477\" y1=\"264.884\" x2=\"500.193\" y2=\"261.538\" stroke-linecap=\"round\" style=\"stroke:red;stroke-width:1\" /><line x1=\"500.193\" y1=\"261.538\" x2=\"503.79\" y2=\"258.065\" stroke-linecap=\"round\" style=\"stroke:red;stroke-width:1\" /><line x1=\"503.79\" y1=\"258.065\" x2=\"507.263\" y2=\"254.468\" stroke-linecap=\"round\" style=\"stroke:red;stroke-width:1\" /><line x1=\"507.263\" y1=\"254.468\" x2=\"510.609\" y2=\"250.752\" stroke-linecap=\"round\" style=\"stroke:red;stroke-width:1\" /><line x1=\"510.609\" y1=\"250.752\" x2=\"513.823\" y2=\"246.922\" stroke-linecap=\"round\" style=\"stroke:red;stroke-width:1\" /><line x1=\"513.823\" y1=\"246.922\" x2=\"516.901\" y2=\"242.982\" stroke-linecap=\"round\" style=\"stroke:red;stroke-width:1\" /><line x1=\"516.901\" y1=\"242.982\" x2=\"519.84\" y2=\"238.937\" stroke-linecap=\"round\" style=\"stroke:red;stroke-width:1\" /><line x1=\"519.84\" y1=\"238.937\" x2=\"522.636\" y2=\"234.792\" stroke-linecap=\"round\" style=\"stroke:red;stroke-width:1\" /><line x1=\"522.636\" y1=\"234.792\" x2=\"525.286\" y2=\"230.552\" stroke-linecap=\"round\" style=\"stroke:red;stroke-width:1\" /><line x1=\"525.286\" y1=\"230.552\" x2=\"527.786\" y2=\"226.222\" stroke-linecap=\"round\" style=\"stroke:red;stroke-width:1\" /><line x1=\"527.786\" y1=\"226.222\" x2=\"530.133\" y2=\"221.807\" stroke-linecap=\"round\" style=\"stroke:red;stroke-width:1\" /><line x1=\"530.133\" y1=\"221.807\" x2=\"532.325\" y2=\"217.313\" stroke-linecap=\"round\" style=\"stroke:red;stroke-width:1\" /><line x1=\"532.325\" y1=\"217.313\" x2=\"534.359\" y2=\"212.745\" stroke-linecap=\"round\" style=\"stroke:red;stroke-width:1\" /><line x1=\"534.359\" y1=\"212.745\" x2=\"536.232\" y2=\"208.109\" stroke-linecap=\"round\" style=\"stroke:red;stroke-width:1\" /><line x1=\"536.232\" y1=\"208.109\" x2=\"537.942\" y2=\"203.411\" stroke-linecap=\"round\" style=\"stroke:red;stroke-width:1\" /><line x1=\"537.942\" y1=\"203.411\" x2=\"539.487\" y2=\"198.656\" stroke-linecap=\"round\" style=\"stroke:red;stroke-width:1\" /><line x1=\"539.487\" y1=\"198.656\" x2=\"540.865\" y2=\"193.85\" stroke-linecap=\"round\" style=\"stroke:red;stroke-width:1\" /><line x1=\"540.865\" y1=\"193.85\" x2=\"542.075\" y2=\"188.999\" stroke-linecap=\"round\" style=\"stroke:red;stroke-width:1\" /><line x1=\"542.075\" y1=\"188.999\" x2=\"543.115\" y2=\"184.108\" stroke-linecap=\"round\" style=\"stroke:red;stroke-width:1\" /><line x1=\"543.115\" y1=\"184.108\" x2=\"543.983\" y2=\"179.184\" stroke-linecap=\"round\" style=\"stroke:red;stroke-width:1\" /><line x1=\"543.983\" y1=\"179.184\" x2=\"544.679\" y2=\"174.233\" stroke-linecap=\"round\" style=\"stroke:red;stroke-width:1\" /><line x1=\"544.679\" y1=\"174.233\" x2=\"545.202\" y2=\"169.26\" stroke-linecap=\"round\" style=\"stroke:red;stroke-width:1\" /><line x1=\"545.202\" y1=\"169.26\" x2=\"545.551\" y2=\"164.272\" stroke-linecap=\"round\" style=\"stroke:red;stroke-width:1\" /><line x1=\"545.551\" y1=\"164.272\" x2=\"545.725\" y2=\"159.275\" stroke-linecap=\"round\" style=\"stroke:red;stroke-width:1\" /><line x1=\"545.725\" y1=\"159.275\" x2=\"545.725\" y2=\"154.275\" stroke-linecap=\"round\" style=\"stroke:red;stroke-width:1\" /><line x1=\"545.725\" y1=\"154.275\" x2=\"545.551\" y2=\"149.278\" stroke-linecap=\"round\" style=\"stroke:red;stroke-width:1\" /><line x1=\"545.551\" y1=\"149.278\" x2=\"545.202\" y2=\"144.29\" stroke-linecap=\"round\" style=\"stroke:red;stroke-width:1\" /><line x1=\"545.202\" y1=\"144.29\" x2=\"544.679\" y2=\"139.317\" stroke-linecap=\"round\" style=\"stroke:red;stroke-width:1\" /><line x1=\"544.679\" y1=\"139.317\" x2=\"543.983\" y2=\"134.366\" stroke-linecap=\"round\" style=\"stroke:red;stroke-width:1\" /><line x1=\"543.983\" y1=\"134.366\" x2=\"543.115\" y2=\"129.442\" stroke-linecap=\"round\" style=\"stroke:red;stroke-width:1\" /><line x1=\"543.115\" y1=\"129.442\" x2=\"542.075\" y2=\"124.551\" stroke-linecap=\"round\" style=\"stroke:red;stroke-width:1\" /><line x1=\"542.075\" y1=\"124.551\" x2=\"540.865\" y2=\"119.7\" stroke-linecap=\"round\" style=\"stroke:red;stroke-width:1\" /><line x1=\"540.865\" y1=\"119.7\" x2=\"539.487\" y2=\"114.894\" stroke-linecap=\"round\" style=\"stroke:red;stroke-width:1\" /><line x1=\"539.487\" y1=\"114.894\" x2=\"537.942\" y2=\"110.139\" stroke-linecap=\"round\" style=\"stroke:red;stroke-width:1\" /><line x1=\"537.942\" y1=\"110.139\" x2=\"536.232\" y2=\"105.441\" stroke-linecap=\"round\" style=\"stroke:red;stroke-width:1\" /><line x1=\"536.232\" y1=\"105.441\" x2=\"534.359\" y2=\"100.805\" stroke-linecap=\"round\" style=\"stroke:red;stroke-width:1\" /><line x1=\"534.359\" y1=\"100.805\" x2=\"532.325\" y2=\"96.237\" stroke-linecap=\"round\" style=\"stroke:red;stroke-width:1\" /><line x1=\"532.325\" y1=\"96.237\" x2=\"530.133\" y2=\"91.743\" stroke-linecap=\"round\" style=\"stroke:red;stroke-width:1\" /><line x1=\"530.133\" y1=\"91.743\" x2=\"527.786\" y2=\"87.328\" stroke-linecap=\"round\" style=\"stroke:red;stroke-width:1\" /><line x1=\"527.786\" y1=\"87.328\" x2=\"525.286\" y2=\"82.998\" stroke-linecap=\"round\" style=\"stroke:red;stroke-width:1\" /><line x1=\"525.286\" y1=\"82.998\" x2=\"522.636\" y2=\"78.758\" stroke-linecap=\"round\" style=\"stroke:red;stroke-width:1\" /><line x1=\"522.636\" y1=\"78.758\" x2=\"519.84\" y2=\"74.613\" stroke-linecap=\"round\" style=\"stroke:red;stroke-width:1\" /><line x1=\"519.84\" y1=\"74.613\" x2=\"516.901\" y2=\"70.568\" stroke-linecap=\"round\" style=\"stroke:red;stroke-width:1\" /><line x1=\"516.901\" y1=\"70.568\" x2=\"513.823\" y2=\"66.628\" stroke-linecap=\"round\" style=\"stroke:red;stroke-width:1\" /><line x1=\"513.823\" y1=\"66.628\" x2=\"510.609\" y2=\"62.798\" stroke-linecap=\"round\" style=\"stroke:red;stroke-width:1\" /><line x1=\"510.609\" y1=\"62.798\" x2=\"507.263\" y2=\"59.082\" stroke-linecap=\"round\" style=\"stroke:red;stroke-width:1\" /><line x1=\"507.263\" y1=\"59.082\" x2=\"503.79\" y2=\"55.485\" stroke-linecap=\"round\" style=\"stroke:red;stroke-width:1\" /><line x1=\"503.79\" y1=\"55.485\" x2=\"500.193\" y2=\"52.012\" stroke-linecap=\"round\" style=\"stroke:red;stroke-width:1\" /><line x1=\"500.193\" y1=\"52.012\" x2=\"496.477\" y2=\"48.666\" stroke-linecap=\"round\" style=\"stroke:red;stroke-width:1\" /><line x1=\"496.477\" y1=\"48.666\" x2=\"492.647\" y2=\"45.452\" stroke-linecap=\"round\" style=\"stroke:red;stroke-width:1\" /><line x1=\"492.647\" y1=\"45.452\" x2=\"488.707\" y2=\"42.374\" stroke-linecap=\"round\" style=\"stroke:red;stroke-width:1\" /><line x1=\"488.707\" y1=\"42.374\" x2=\"484.662\" y2=\"39.435\" stroke-linecap=\"round\" style=\"stroke:red;stroke-width:1\" /><line x1=\"484.662\" y1=\"39.435\" x2=\"480.517\" y2=\"36.639\" stroke-linecap=\"round\" style=\"stroke:red;stroke-width:1\" /><line x1=\"480.517\" y1=\"36.639\" x2=\"476.277\" y2=\"33.989\" stroke-linecap=\"round\" style=\"stroke:red;stroke-width:1\" /><line x1=\"476.277\" y1=\"33.989\" x2=\"471.947\" y2=\"31.489\" stroke-linecap=\"round\" style=\"stroke:red;stroke-width:1\" /><line x1=\"471.947\" y1=\"31.489\" x2=\"467.532\" y2=\"29.142\" stroke-linecap=\"round\" style=\"stroke:red;stroke-width:1\" /><line x1=\"467.532\" y1=\"29.142\" x2=\"463.038\" y2=\"26.95\" stroke-linecap=\"round\" style=\"stroke:red;stroke-width:1\" /><line x1=\"463.038\" y1=\"26.95\" x2=\"458.47\" y2=\"24.916\" stroke-linecap=\"round\" style=\"stroke:red;stroke-width:1\" /><line x1=\"458.47\" y1=\"24.916\" x2=\"453.834\" y2=\"23.043\" stroke-linecap=\"round\" style=\"stroke:red;stroke-width:1\" /><line x1=\"453.834\" y1=\"23.043\" x2=\"449.136\" y2=\"21.333\" stroke-linecap=\"round\" style=\"stroke:red;stroke-width:1\" /><line x1=\"449.136\" y1=\"21.333\" x2=\"444.381\" y2=\"19.788\" stroke-linecap=\"round\" style=\"stroke:red;stroke-width:1\" /><line x1=\"444.381\" y1=\"19.788\" x2=\"439.575\" y2=\"18.41\" stroke-linecap=\"round\" style=\"stroke:red;stroke-width:1\" /><line x1=\"439.575\" y1=\"18.41\" x2=\"434.724\" y2=\"17.2\" stroke-linecap=\"round\" style=\"stroke:red;stroke-width:1\" /><line x1=\"434.724\" y1=\"17.2\" x2=\"429.833\" y2=\"16.16\" stroke-linecap=\"round\" style=\"stroke:red;stroke-width:1\" /><line x1=\"429.833\" y1=\"16.16\" x2=\"424.909\" y2=\"15.292\" stroke-linecap=\"round\" style=\"stroke:red;stroke-width:1\" /><line x1=\"424.909\" y1=\"15.292\" x2=\"419.958\" y2=\"14.596\" stroke-linecap=\"round\" style=\"stroke:red;stroke-width:1\" /><line x1=\"419.958\" y1=\"14.596\" x2=\"414.985\" y2=\"14.073\" stroke-linecap=\"round\" style=\"stroke:red;stroke-width:1\" /><line x1=\"414.985\" y1=\"14.073\" x2=\"409.997\" y2=\"13.724\" stroke-linecap=\"round\" style=\"stroke:red;stroke-width:1\" /><line x1=\"409.997\" y1=\"13.724\" x2=\"405.0\" y2=\"13.55\" stroke-linecap=\"round\" style=\"stroke:red;stroke-width:1\" /><line x1=\"405.0\" y1=\"13.55\" x2=\"400.0\" y2=\"13.55\" stroke-linecap=\"round\" style=\"stroke:red;stroke-width:1\" /><line x1=\"400.0\" y1=\"13.55\" x2=\"395.003\" y2=\"13.724\" stroke-linecap=\"round\" style=\"stroke:red;stroke-width:1\" /><line x1=\"395.003\" y1=\"13.724\" x2=\"390.015\" y2=\"14.073\" stroke-linecap=\"round\" style=\"stroke:red;stroke-width:1\" /><line x1=\"390.015\" y1=\"14.073\" x2=\"385.042\" y2=\"14.596\" stroke-linecap=\"round\" style=\"stroke:red;stroke-width:1\" /><line x1=\"385.042\" y1=\"14.596\" x2=\"380.091\" y2=\"15.292\" stroke-linecap=\"round\" style=\"stroke:red;stroke-width:1\" /><line x1=\"380.091\" y1=\"15.292\" x2=\"375.167\" y2=\"16.16\" stroke-linecap=\"round\" style=\"stroke:red;stroke-width:1\" /><line x1=\"375.167\" y1=\"16.16\" x2=\"370.276\" y2=\"17.2\" stroke-linecap=\"round\" style=\"stroke:red;stroke-width:1\" /><line x1=\"370.276\" y1=\"17.2\" x2=\"365.425\" y2=\"18.41\" stroke-linecap=\"round\" style=\"stroke:red;stroke-width:1\" /><line x1=\"365.425\" y1=\"18.41\" x2=\"360.619\" y2=\"19.788\" stroke-linecap=\"round\" style=\"stroke:red;stroke-width:1\" /><line x1=\"360.619\" y1=\"19.788\" x2=\"355.864\" y2=\"21.333\" stroke-linecap=\"round\" style=\"stroke:red;stroke-width:1\" /><line x1=\"355.864\" y1=\"21.333\" x2=\"351.166\" y2=\"23.043\" stroke-linecap=\"round\" style=\"stroke:red;stroke-width:1\" /><line x1=\"351.166\" y1=\"23.043\" x2=\"346.53\" y2=\"24.916\" stroke-linecap=\"round\" style=\"stroke:red;stroke-width:1\" /><line x1=\"346.53\" y1=\"24.916\" x2=\"341.962\" y2=\"26.95\" stroke-linecap=\"round\" style=\"stroke:red;stroke-width:1\" /><line x1=\"341.962\" y1=\"26.95\" x2=\"337.468\" y2=\"29.142\" stroke-linecap=\"round\" style=\"stroke:red;stroke-width:1\" /><line x1=\"337.468\" y1=\"29.142\" x2=\"333.053\" y2=\"31.489\" stroke-linecap=\"round\" style=\"stroke:red;stroke-width:1\" /><line x1=\"333.053\" y1=\"31.489\" x2=\"328.723\" y2=\"33.989\" stroke-linecap=\"round\" style=\"stroke:red;stroke-width:1\" /><line x1=\"328.723\" y1=\"33.989\" x2=\"324.483\" y2=\"36.639\" stroke-linecap=\"round\" style=\"stroke:red;stroke-width:1\" /><line x1=\"324.483\" y1=\"36.639\" x2=\"320.338\" y2=\"39.435\" stroke-linecap=\"round\" style=\"stroke:red;stroke-width:1\" /><line x1=\"320.338\" y1=\"39.435\" x2=\"316.293\" y2=\"42.374\" stroke-linecap=\"round\" style=\"stroke:red;stroke-width:1\" /><line x1=\"316.293\" y1=\"42.374\" x2=\"312.353\" y2=\"45.452\" stroke-linecap=\"round\" style=\"stroke:red;stroke-width:1\" /><line x1=\"312.353\" y1=\"45.452\" x2=\"308.523\" y2=\"48.666\" stroke-linecap=\"round\" style=\"stroke:red;stroke-width:1\" /><line x1=\"308.523\" y1=\"48.666\" x2=\"304.807\" y2=\"52.012\" stroke-linecap=\"round\" style=\"stroke:red;stroke-width:1\" /><line x1=\"304.807\" y1=\"52.012\" x2=\"301.21\" y2=\"55.485\" stroke-linecap=\"round\" style=\"stroke:red;stroke-width:1\" /><line x1=\"301.21\" y1=\"55.485\" x2=\"297.737\" y2=\"59.082\" stroke-linecap=\"round\" style=\"stroke:red;stroke-width:1\" /><line x1=\"297.737\" y1=\"59.082\" x2=\"294.391\" y2=\"62.798\" stroke-linecap=\"round\" style=\"stroke:red;stroke-width:1\" /><line x1=\"294.391\" y1=\"62.798\" x2=\"291.177\" y2=\"66.628\" stroke-linecap=\"round\" style=\"stroke:red;stroke-width:1\" /><line x1=\"291.177\" y1=\"66.628\" x2=\"288.099\" y2=\"70.568\" stroke-linecap=\"round\" style=\"stroke:red;stroke-width:1\" /><line x1=\"288.099\" y1=\"70.568\" x2=\"285.16\" y2=\"74.613\" stroke-linecap=\"round\" style=\"stroke:red;stroke-width:1\" /><line x1=\"285.16\" y1=\"74.613\" x2=\"282.364\" y2=\"78.758\" stroke-linecap=\"round\" style=\"stroke:red;stroke-width:1\" /><line x1=\"282.364\" y1=\"78.758\" x2=\"279.714\" y2=\"82.998\" stroke-linecap=\"round\" style=\"stroke:red;stroke-width:1\" /><line x1=\"279.714\" y1=\"82.998\" x2=\"277.214\" y2=\"87.328\" stroke-linecap=\"round\" style=\"stroke:red;stroke-width:1\" /><line x1=\"277.214\" y1=\"87.328\" x2=\"274.867\" y2=\"91.743\" stroke-linecap=\"round\" style=\"stroke:red;stroke-width:1\" /><line x1=\"274.867\" y1=\"91.743\" x2=\"272.675\" y2=\"96.237\" stroke-linecap=\"round\" style=\"stroke:red;stroke-width:1\" /><line x1=\"272.675\" y1=\"96.237\" x2=\"270.641\" y2=\"100.805\" stroke-linecap=\"round\" style=\"stroke:red;stroke-width:1\" /><line x1=\"270.641\" y1=\"100.805\" x2=\"268.768\" y2=\"105.441\" stroke-linecap=\"round\" style=\"stroke:red;stroke-width:1\" /><line x1=\"268.768\" y1=\"105.441\" x2=\"267.058\" y2=\"110.139\" stroke-linecap=\"round\" style=\"stroke:red;stroke-width:1\" /><line x1=\"267.058\" y1=\"110.139\" x2=\"265.513\" y2=\"114.894\" stroke-linecap=\"round\" style=\"stroke:red;stroke-width:1\" /><line x1=\"265.513\" y1=\"114.894\" x2=\"264.135\" y2=\"119.7\" stroke-linecap=\"round\" style=\"stroke:red;stroke-width:1\" /><line x1=\"264.135\" y1=\"119.7\" x2=\"262.925\" y2=\"124.551\" stroke-linecap=\"round\" style=\"stroke:red;stroke-width:1\" /><line x1=\"262.925\" y1=\"124.551\" x2=\"261.885\" y2=\"129.442\" stroke-linecap=\"round\" style=\"stroke:red;stroke-width:1\" /><line x1=\"261.885\" y1=\"129.442\" x2=\"261.017\" y2=\"134.366\" stroke-linecap=\"round\" style=\"stroke:red;stroke-width:1\" /><line x1=\"261.017\" y1=\"134.366\" x2=\"260.321\" y2=\"139.317\" stroke-linecap=\"round\" style=\"stroke:red;stroke-width:1\" /><line x1=\"260.321\" y1=\"139.317\" x2=\"259.798\" y2=\"144.29\" stroke-linecap=\"round\" style=\"stroke:red;stroke-width:1\" /><line x1=\"259.798\" y1=\"144.29\" x2=\"259.449\" y2=\"149.278\" stroke-linecap=\"round\" style=\"stroke:red;stroke-width:1\" /><line x1=\"259.449\" y1=\"149.278\" x2=\"259.275\" y2=\"154.275\" stroke-linecap=\"round\" style=\"stroke:red;stroke-width:1\" /><line x1=\"259.275\" y1=\"154.275\" x2=\"259.275\" y2=\"159.275\" stroke-linecap=\"round\" style=\"stroke:red;stroke-width:1\" /><line x1=\"259.275\" y1=\"159.275\" x2=\"259.449\" y2=\"164.272\" stroke-linecap=\"round\" style=\"stroke:red;stroke-width:1\" /><line x1=\"259.449\" y1=\"164.272\" x2=\"259.798\" y2=\"169.26\" stroke-linecap=\"round\" style=\"stroke:red;stroke-width:1\" /><line x1=\"259.798\" y1=\"169.26\" x2=\"260.321\" y2=\"174.233\" stroke-linecap=\"round\" style=\"stroke:red;stroke-width:1\" /><line x1=\"260.321\" y1=\"174.233\" x2=\"261.017\" y2=\"179.184\" stroke-linecap=\"round\" style=\"stroke:red;stroke-width:1\" /><line x1=\"261.017\" y1=\"179.184\" x2=\"261.885\" y2=\"184.108\" stroke-linecap=\"round\" style=\"stroke:red;stroke-width:1\" /><line x1=\"261.885\" y1=\"184.108\" x2=\"262.925\" y2=\"188.999\" stroke-linecap=\"round\" style=\"stroke:red;stroke-width:1\" /><line x1=\"262.925\" y1=\"188.999\" x2=\"264.135\" y2=\"193.85\" stroke-linecap=\"round\" style=\"stroke:red;stroke-width:1\" /><line x1=\"264.135\" y1=\"193.85\" x2=\"265.513\" y2=\"198.656\" stroke-linecap=\"round\" style=\"stroke:red;stroke-width:1\" /><line x1=\"265.513\" y1=\"198.656\" x2=\"267.058\" y2=\"203.411\" stroke-linecap=\"round\" style=\"stroke:red;stroke-width:1\" /><line x1=\"267.058\" y1=\"203.411\" x2=\"268.768\" y2=\"208.109\" stroke-linecap=\"round\" style=\"stroke:red;stroke-width:1\" /><line x1=\"268.768\" y1=\"208.109\" x2=\"270.641\" y2=\"212.745\" stroke-linecap=\"round\" style=\"stroke:red;stroke-width:1\" /><line x1=\"270.641\" y1=\"212.745\" x2=\"272.675\" y2=\"217.313\" stroke-linecap=\"round\" style=\"stroke:red;stroke-width:1\" /><line x1=\"272.675\" y1=\"217.313\" x2=\"274.867\" y2=\"221.807\" stroke-linecap=\"round\" style=\"stroke:red;stroke-width:1\" /><line x1=\"274.867\" y1=\"221.807\" x2=\"277.214\" y2=\"226.222\" stroke-linecap=\"round\" style=\"stroke:red;stroke-width:1\" /><line x1=\"277.214\" y1=\"226.222\" x2=\"279.714\" y2=\"230.552\" stroke-linecap=\"round\" style=\"stroke:red;stroke-width:1\" /><line x1=\"279.714\" y1=\"230.552\" x2=\"282.364\" y2=\"234.792\" stroke-linecap=\"round\" style=\"stroke:red;stroke-width:1\" /><line x1=\"282.364\" y1=\"234.792\" x2=\"285.16\" y2=\"238.937\" stroke-linecap=\"round\" style=\"stroke:red;stroke-width:1\" /><line x1=\"285.16\" y1=\"238.937\" x2=\"288.099\" y2=\"242.982\" stroke-linecap=\"round\" style=\"stroke:red;stroke-width:1\" /><line x1=\"288.099\" y1=\"242.982\" x2=\"291.177\" y2=\"246.922\" stroke-linecap=\"round\" style=\"stroke:red;stroke-width:1\" /><line x1=\"291.177\" y1=\"246.922\" x2=\"294.391\" y2=\"250.752\" stroke-linecap=\"round\" style=\"stroke:red;stroke-width:1\" /><line x1=\"294.391\" y1=\"250.752\" x2=\"297.737\" y2=\"254.468\" stroke-linecap=\"round\" style=\"stroke:red;stroke-width:1\" /><line x1=\"297.737\" y1=\"254.468\" x2=\"301.21\" y2=\"258.065\" stroke-linecap=\"round\" style=\"stroke:red;stroke-width:1\" /><line x1=\"301.21\" y1=\"258.065\" x2=\"304.807\" y2=\"261.538\" stroke-linecap=\"round\" style=\"stroke:red;stroke-width:1\" /><line x1=\"304.807\" y1=\"261.538\" x2=\"308.523\" y2=\"264.884\" stroke-linecap=\"round\" style=\"stroke:red;stroke-width:1\" /><line x1=\"308.523\" y1=\"264.884\" x2=\"312.353\" y2=\"268.098\" stroke-linecap=\"round\" style=\"stroke:red;stroke-width:1\" /><line x1=\"312.353\" y1=\"268.098\" x2=\"316.293\" y2=\"271.176\" stroke-linecap=\"round\" style=\"stroke:red;stroke-width:1\" /><line x1=\"316.293\" y1=\"271.176\" x2=\"320.338\" y2=\"274.115\" stroke-linecap=\"round\" style=\"stroke:red;stroke-width:1\" /><line x1=\"320.338\" y1=\"274.115\" x2=\"324.483\" y2=\"276.911\" stroke-linecap=\"round\" style=\"stroke:red;stroke-width:1\" /><line x1=\"324.483\" y1=\"276.911\" x2=\"328.723\" y2=\"279.561\" stroke-linecap=\"round\" style=\"stroke:red;stroke-width:1\" /><line x1=\"328.723\" y1=\"279.561\" x2=\"333.053\" y2=\"282.061\" stroke-linecap=\"round\" style=\"stroke:red;stroke-width:1\" /><line x1=\"333.053\" y1=\"282.061\" x2=\"337.468\" y2=\"284.408\" stroke-linecap=\"round\" style=\"stroke:red;stroke-width:1\" /><line x1=\"337.468\" y1=\"284.408\" x2=\"341.962\" y2=\"286.6\" stroke-linecap=\"round\" style=\"stroke:red;stroke-width:1\" /><line x1=\"341.962\" y1=\"286.6\" x2=\"346.53\" y2=\"288.634\" stroke-linecap=\"round\" style=\"stroke:red;stroke-width:1\" /><line x1=\"346.53\" y1=\"288.634\" x2=\"351.166\" y2=\"290.507\" stroke-linecap=\"round\" style=\"stroke:red;stroke-width:1\" /><line x1=\"351.166\" y1=\"290.507\" x2=\"355.864\" y2=\"292.217\" stroke-linecap=\"round\" style=\"stroke:red;stroke-width:1\" /><line x1=\"355.864\" y1=\"292.217\" x2=\"360.619\" y2=\"293.762\" stroke-linecap=\"round\" style=\"stroke:red;stroke-width:1\" /><line x1=\"360.619\" y1=\"293.762\" x2=\"365.425\" y2=\"295.14\" stroke-linecap=\"round\" style=\"stroke:red;stroke-width:1\" /><line x1=\"365.425\" y1=\"295.14\" x2=\"370.276\" y2=\"296.35\" stroke-linecap=\"round\" style=\"stroke:red;stroke-width:1\" /><line x1=\"370.276\" y1=\"296.35\" x2=\"375.167\" y2=\"297.39\" stroke-linecap=\"round\" style=\"stroke:red;stroke-width:1\" /><line x1=\"375.167\" y1=\"297.39\" x2=\"380.091\" y2=\"298.258\" stroke-linecap=\"round\" style=\"stroke:red;stroke-width:1\" /><line x1=\"380.091\" y1=\"298.258\" x2=\"385.042\" y2=\"298.954\" stroke-linecap=\"round\" style=\"stroke:red;stroke-width:1\" /><line x1=\"385.042\" y1=\"298.954\" x2=\"390.015\" y2=\"299.477\" stroke-linecap=\"round\" style=\"stroke:red;stroke-width:1\" /><line x1=\"390.015\" y1=\"299.477\" x2=\"395.003\" y2=\"299.826\" stroke-linecap=\"round\" style=\"stroke:red;stroke-width:1\" /><line x1=\"395.003\" y1=\"299.826\" x2=\"400.0\" y2=\"300.0\" stroke-linecap=\"round\" style=\"stroke:red;stroke-width:1\" /><line x1=\"400.0\" y1=\"300.0\" x2=\"403.0\" y2=\"300.0\" stroke-linecap=\"round\" style=\"stroke:blue;stroke-width:1\" /><line x1=\"403.0\" y1=\"300.0\" x2=\"405.998\" y2=\"299.895\" stroke-linecap=\"round\" style=\"stroke:blue;stroke-width:1\" /><line x1=\"405.998\" y1=\"299.895\" x2=\"408.991\" y2=\"299.686\" stroke-linecap=\"round\" style=\"stroke:blue;stroke-width:1\" /><line x1=\"408.991\" y1=\"299.686\" x2=\"411.975\" y2=\"299.372\" stroke-linecap=\"round\" style=\"stroke:blue;stroke-width:1\" /><line x1=\"411.975\" y1=\"299.372\" x2=\"414.946\" y2=\"298.954\" stroke-linecap=\"round\" style=\"stroke:blue;stroke-width:1\" /><line x1=\"414.946\" y1=\"298.954\" x2=\"417.9\" y2=\"298.433\" stroke-linecap=\"round\" style=\"stroke:blue;stroke-width:1\" /><line x1=\"417.9\" y1=\"298.433\" x2=\"420.834\" y2=\"297.809\" stroke-linecap=\"round\" style=\"stroke:blue;stroke-width:1\" /><line x1=\"420.834\" y1=\"297.809\" x2=\"423.745\" y2=\"297.083\" stroke-linecap=\"round\" style=\"stroke:blue;stroke-width:1\" /><line x1=\"423.745\" y1=\"297.083\" x2=\"426.629\" y2=\"296.256\" stroke-linecap=\"round\" style=\"stroke:blue;stroke-width:1\" /><line x1=\"426.629\" y1=\"296.256\" x2=\"429.482\" y2=\"295.329\" stroke-linecap=\"round\" style=\"stroke:blue;stroke-width:1\" /><line x1=\"429.482\" y1=\"295.329\" x2=\"432.301\" y2=\"294.303\" stroke-linecap=\"round\" style=\"stroke:blue;stroke-width:1\" /><line x1=\"432.301\" y1=\"294.303\" x2=\"435.083\" y2=\"293.179\" stroke-linecap=\"round\" style=\"stroke:blue;stroke-width:1\" /><line x1=\"435.083\" y1=\"293.179\" x2=\"437.824\" y2=\"291.959\" stroke-linecap=\"round\" style=\"stroke:blue;stroke-width:1\" /><line x1=\"437.824\" y1=\"291.959\" x2=\"440.52\" y2=\"290.644\" stroke-linecap=\"round\" style=\"stroke:blue;stroke-width:1\" /><line x1=\"440.52\" y1=\"290.644\" x2=\"443.169\" y2=\"289.236\" stroke-linecap=\"round\" style=\"stroke:blue;stroke-width:1\" /><line x1=\"443.169\" y1=\"289.236\" x2=\"445.767\" y2=\"287.736\" stroke-linecap=\"round\" style=\"stroke:blue;stroke-width:1\" /><line x1=\"445.767\" y1=\"287.736\" x2=\"448.311\" y2=\"286.146\" stroke-linecap=\"round\" style=\"stroke:blue;stroke-width:1\" /><line x1=\"448.311\" y1=\"286.146\" x2=\"450.798\" y2=\"284.468\" stroke-linecap=\"round\" style=\"stroke:blue;stroke-width:1\" /><line x1=\"450.798\" y1=\"284.468\" x2=\"453.225\" y2=\"282.705\" stroke-linecap=\"round\" style=\"stroke:blue;stroke-width:1\" /><line x1=\"453.225\" y1=\"282.705\" x2=\"455.589\" y2=\"280.858\" stroke-linecap=\"round\" style=\"stroke:blue;stroke-width:1\" /><line x1=\"455.589\" y1=\"280.858\" x2=\"457.887\" y2=\"278.93\" stroke-linecap=\"round\" style=\"stroke:blue;stroke-width:1\" /><line x1=\"457.887\" y1=\"278.93\" x2=\"460.116\" y2=\"276.923\" stroke-linecap=\"round\" style=\"stroke:blue;stroke-width:1\" /><line x1=\"460.116\" y1=\"276.923\" x2=\"462.274\" y2=\"274.839\" stroke-linecap=\"round\" style=\"stroke:blue;stroke-width:1\" /><line x1=\"462.274\" y1=\"274.839\" x2=\"464.358\" y2=\"272.681\" stroke-linecap=\"round\" style=\"stroke:blue;stroke-width:1\" /><line x1=\"464.358\" y1=\"272.681\" x2=\"466.365\" y2=\"270.452\" stroke-linecap=\"round\" style=\"stroke:blue;stroke-width:1\" /><line x1=\"466.365\" y1=\"270.452\" x2=\"468.293\" y2=\"268.154\" stroke-linecap=\"round\" style=\"stroke:blue;stroke-width:1\" /><line x1=\"468.293\" y1=\"268.154\" x2=\"470.14\" y2=\"265.79\" stroke-linecap=\"round\" style=\"stroke:blue;stroke-width:1\" /><line x1=\"470.14\" y1=\"265.79\" x2=\"471.903\" y2=\"263.363\" stroke-linecap=\"round\" style=\"stroke:blue;stroke-width:1\" /><line x1=\"471.903\" y1=\"263.363\" x2=\"473.581\" y2=\"260.876\" stroke-linecap=\"round\" style=\"stroke:blue;stroke-width:1\" /><line x1=\"473.581\" y1=\"260.876\" x2=\"475.171\" y2=\"258.332\" stroke-linecap=\"round\" style=\"stroke:blue;stroke-width:1\" /><line x1=\"475.171\" y1=\"258.332\" x2=\"476.671\" y2=\"255.734\" stroke-linecap=\"round\" style=\"stroke:blue;stroke-width:1\" /><line x1=\"476.671\" y1=\"255.734\" x2=\"478.079\" y2=\"253.085\" stroke-linecap=\"round\" style=\"stroke:blue;stroke-width:1\" /><line x1=\"478.079\" y1=\"253.085\" x2=\"479.394\" y2=\"250.389\" stroke-linecap=\"round\" style=\"stroke:blue;stroke-width:1\" /><line x1=\"479.394\" y1=\"250.389\" x2=\"480.614\" y2=\"247.648\" stroke-linecap=\"round\" style=\"stroke:blue;stroke-width:1\" /><line x1=\"480.614\" y1=\"247.648\" x2=\"481.738\" y2=\"244.866\" stroke-linecap=\"round\" style=\"stroke:blue;stroke-width:1\" /><line x1=\"481.738\" y1=\"244.866\" x2=\"482.764\" y2=\"242.047\" stroke-linecap=\"round\" style=\"stroke:blue;stroke-width:1\" /><line x1=\"482.764\" y1=\"242.047\" x2=\"483.691\" y2=\"239.194\" stroke-linecap=\"round\" style=\"stroke:blue;stroke-width:1\" /><line x1=\"483.691\" y1=\"239.194\" x2=\"484.518\" y2=\"236.31\" stroke-linecap=\"round\" style=\"stroke:blue;stroke-width:1\" /><line x1=\"484.518\" y1=\"236.31\" x2=\"485.244\" y2=\"233.399\" stroke-linecap=\"round\" style=\"stroke:blue;stroke-width:1\" /><line x1=\"485.244\" y1=\"233.399\" x2=\"485.868\" y2=\"230.465\" stroke-linecap=\"round\" style=\"stroke:blue;stroke-width:1\" /><line x1=\"485.868\" y1=\"230.465\" x2=\"486.389\" y2=\"227.511\" stroke-linecap=\"round\" style=\"stroke:blue;stroke-width:1\" /><line x1=\"486.389\" y1=\"227.511\" x2=\"486.807\" y2=\"224.54\" stroke-linecap=\"round\" style=\"stroke:blue;stroke-width:1\" /><line x1=\"486.807\" y1=\"224.54\" x2=\"487.121\" y2=\"221.556\" stroke-linecap=\"round\" style=\"stroke:blue;stroke-width:1\" /><line x1=\"487.121\" y1=\"221.556\" x2=\"487.33\" y2=\"218.563\" stroke-linecap=\"round\" style=\"stroke:blue;stroke-width:1\" /><line x1=\"487.33\" y1=\"218.563\" x2=\"487.435\" y2=\"215.565\" stroke-linecap=\"round\" style=\"stroke:blue;stroke-width:1\" /><line x1=\"487.435\" y1=\"215.565\" x2=\"487.435\" y2=\"212.565\" stroke-linecap=\"round\" style=\"stroke:blue;stroke-width:1\" /><line x1=\"487.435\" y1=\"212.565\" x2=\"487.33\" y2=\"209.567\" stroke-linecap=\"round\" style=\"stroke:blue;stroke-width:1\" /><line x1=\"487.33\" y1=\"209.567\" x2=\"487.121\" y2=\"206.574\" stroke-linecap=\"round\" style=\"stroke:blue;stroke-width:1\" /><line x1=\"487.121\" y1=\"206.574\" x2=\"486.807\" y2=\"203.59\" stroke-linecap=\"round\" style=\"stroke:blue;stroke-width:1\" /><line x1=\"486.807\" y1=\"203.59\" x2=\"486.389\" y2=\"200.619\" stroke-linecap=\"round\" style=\"stroke:blue;stroke-width:1\" /><line x1=\"486.389\" y1=\"200.619\" x2=\"485.868\" y2=\"197.665\" stroke-linecap=\"round\" style=\"stroke:blue;stroke-width:1\" /><line x1=\"485.868\" y1=\"197.665\" x2=\"485.244\" y2=\"194.731\" stroke-linecap=\"round\" style=\"stroke:blue;stroke-width:1\" /><line x1=\"485.244\" y1=\"194.731\" x2=\"484.518\" y2=\"191.82\" stroke-linecap=\"round\" style=\"stroke:blue;stroke-width:1\" /><line x1=\"484.518\" y1=\"191.82\" x2=\"483.691\" y2=\"188.936\" stroke-linecap=\"round\" style=\"stroke:blue;stroke-width:1\" /><line x1=\"483.691\" y1=\"188.936\" x2=\"482.764\" y2=\"186.083\" stroke-linecap=\"round\" style=\"stroke:blue;stroke-width:1\" /><line x1=\"482.764\" y1=\"186.083\" x2=\"481.738\" y2=\"183.264\" stroke-linecap=\"round\" style=\"stroke:blue;stroke-width:1\" /><line x1=\"481.738\" y1=\"183.264\" x2=\"480.614\" y2=\"180.482\" stroke-linecap=\"round\" style=\"stroke:blue;stroke-width:1\" /><line x1=\"480.614\" y1=\"180.482\" x2=\"479.394\" y2=\"177.741\" stroke-linecap=\"round\" style=\"stroke:blue;stroke-width:1\" /><line x1=\"479.394\" y1=\"177.741\" x2=\"478.079\" y2=\"175.045\" stroke-linecap=\"round\" style=\"stroke:blue;stroke-width:1\" /><line x1=\"478.079\" y1=\"175.045\" x2=\"476.671\" y2=\"172.396\" stroke-linecap=\"round\" style=\"stroke:blue;stroke-width:1\" /><line x1=\"476.671\" y1=\"172.396\" x2=\"475.171\" y2=\"169.798\" stroke-linecap=\"round\" style=\"stroke:blue;stroke-width:1\" /><line x1=\"475.171\" y1=\"169.798\" x2=\"473.581\" y2=\"167.254\" stroke-linecap=\"round\" style=\"stroke:blue;stroke-width:1\" /><line x1=\"473.581\" y1=\"167.254\" x2=\"471.903\" y2=\"164.767\" stroke-linecap=\"round\" style=\"stroke:blue;stroke-width:1\" /><line x1=\"471.903\" y1=\"164.767\" x2=\"470.14\" y2=\"162.34\" stroke-linecap=\"round\" style=\"stroke:blue;stroke-width:1\" /><line x1=\"470.14\" y1=\"162.34\" x2=\"468.293\" y2=\"159.976\" stroke-linecap=\"round\" style=\"stroke:blue;stroke-width:1\" /><line x1=\"468.293\" y1=\"159.976\" x2=\"466.365\" y2=\"157.678\" stroke-linecap=\"round\" style=\"stroke:blue;stroke-width:1\" /><line x1=\"466.365\" y1=\"157.678\" x2=\"464.358\" y2=\"155.449\" stroke-linecap=\"round\" style=\"stroke:blue;stroke-width:1\" /><line x1=\"464.358\" y1=\"155.449\" x2=\"462.274\" y2=\"153.291\" stroke-linecap=\"round\" style=\"stroke:blue;stroke-width:1\" /><line x1=\"462.274\" y1=\"153.291\" x2=\"460.116\" y2=\"151.207\" stroke-linecap=\"round\" style=\"stroke:blue;stroke-width:1\" /><line x1=\"460.116\" y1=\"151.207\" x2=\"457.887\" y2=\"149.2\" stroke-linecap=\"round\" style=\"stroke:blue;stroke-width:1\" /><line x1=\"457.887\" y1=\"149.2\" x2=\"455.589\" y2=\"147.272\" stroke-linecap=\"round\" style=\"stroke:blue;stroke-width:1\" /><line x1=\"455.589\" y1=\"147.272\" x2=\"453.225\" y2=\"145.425\" stroke-linecap=\"round\" style=\"stroke:blue;stroke-width:1\" /><line x1=\"453.225\" y1=\"145.425\" x2=\"450.798\" y2=\"143.662\" stroke-linecap=\"round\" style=\"stroke:blue;stroke-width:1\" /><line x1=\"450.798\" y1=\"143.662\" x2=\"448.311\" y2=\"141.984\" stroke-linecap=\"round\" style=\"stroke:blue;stroke-width:1\" /><line x1=\"448.311\" y1=\"141.984\" x2=\"445.767\" y2=\"140.394\" stroke-linecap=\"round\" style=\"stroke:blue;stroke-width:1\" /><line x1=\"445.767\" y1=\"140.394\" x2=\"443.169\" y2=\"138.894\" stroke-linecap=\"round\" style=\"stroke:blue;stroke-width:1\" /><line x1=\"443.169\" y1=\"138.894\" x2=\"440.52\" y2=\"137.486\" stroke-linecap=\"round\" style=\"stroke:blue;stroke-width:1\" /><line x1=\"440.52\" y1=\"137.486\" x2=\"437.824\" y2=\"136.171\" stroke-linecap=\"round\" style=\"stroke:blue;stroke-width:1\" /><line x1=\"437.824\" y1=\"136.171\" x2=\"435.083\" y2=\"134.951\" stroke-linecap=\"round\" style=\"stroke:blue;stroke-width:1\" /><line x1=\"435.083\" y1=\"134.951\" x2=\"432.301\" y2=\"133.827\" stroke-linecap=\"round\" style=\"stroke:blue;stroke-width:1\" /><line x1=\"432.301\" y1=\"133.827\" x2=\"429.482\" y2=\"132.801\" stroke-linecap=\"round\" style=\"stroke:blue;stroke-width:1\" /><line x1=\"429.482\" y1=\"132.801\" x2=\"426.629\" y2=\"131.874\" stroke-linecap=\"round\" style=\"stroke:blue;stroke-width:1\" /><line x1=\"426.629\" y1=\"131.874\" x2=\"423.745\" y2=\"131.047\" stroke-linecap=\"round\" style=\"stroke:blue;stroke-width:1\" /><line x1=\"423.745\" y1=\"131.047\" x2=\"420.834\" y2=\"130.321\" stroke-linecap=\"round\" style=\"stroke:blue;stroke-width:1\" /><line x1=\"420.834\" y1=\"130.321\" x2=\"417.9\" y2=\"129.697\" stroke-linecap=\"round\" style=\"stroke:blue;stroke-width:1\" /><line x1=\"417.9\" y1=\"129.697\" x2=\"414.946\" y2=\"129.176\" stroke-linecap=\"round\" style=\"stroke:blue;stroke-width:1\" /><line x1=\"414.946\" y1=\"129.176\" x2=\"411.975\" y2=\"128.758\" stroke-linecap=\"round\" style=\"stroke:blue;stroke-width:1\" /><line x1=\"411.975\" y1=\"128.758\" x2=\"408.991\" y2=\"128.444\" stroke-linecap=\"round\" style=\"stroke:blue;stroke-width:1\" /><line x1=\"408.991\" y1=\"128.444\" x2=\"405.998\" y2=\"128.235\" stroke-linecap=\"round\" style=\"stroke:blue;stroke-width:1\" /><line x1=\"405.998\" y1=\"128.235\" x2=\"403.0\" y2=\"128.13\" stroke-linecap=\"round\" style=\"stroke:blue;stroke-width:1\" /><line x1=\"403.0\" y1=\"128.13\" x2=\"400.0\" y2=\"128.13\" stroke-linecap=\"round\" style=\"stroke:blue;stroke-width:1\" /><line x1=\"400.0\" y1=\"128.13\" x2=\"397.002\" y2=\"128.235\" stroke-linecap=\"round\" style=\"stroke:blue;stroke-width:1\" /><line x1=\"397.002\" y1=\"128.235\" x2=\"394.009\" y2=\"128.444\" stroke-linecap=\"round\" style=\"stroke:blue;stroke-width:1\" /><line x1=\"394.009\" y1=\"128.444\" x2=\"391.025\" y2=\"128.758\" stroke-linecap=\"round\" style=\"stroke:blue;stroke-width:1\" /><line x1=\"391.025\" y1=\"128.758\" x2=\"388.054\" y2=\"129.176\" stroke-linecap=\"round\" style=\"stroke:blue;stroke-width:1\" /><line x1=\"388.054\" y1=\"129.176\" x2=\"385.1\" y2=\"129.697\" stroke-linecap=\"round\" style=\"stroke:blue;stroke-width:1\" /><line x1=\"385.1\" y1=\"129.697\" x2=\"382.166\" y2=\"130.321\" stroke-linecap=\"round\" style=\"stroke:blue;stroke-width:1\" /><line x1=\"382.166\" y1=\"130.321\" x2=\"379.255\" y2=\"131.047\" stroke-linecap=\"round\" style=\"stroke:blue;stroke-width:1\" /><line x1=\"379.255\" y1=\"131.047\" x2=\"376.371\" y2=\"131.874\" stroke-linecap=\"round\" style=\"stroke:blue;stroke-width:1\" /><line x1=\"376.371\" y1=\"131.874\" x2=\"373.518\" y2=\"132.801\" stroke-linecap=\"round\" style=\"stroke:blue;stroke-width:1\" /><line x1=\"373.518\" y1=\"132.801\" x2=\"370.699\" y2=\"133.827\" stroke-linecap=\"round\" style=\"stroke:blue;stroke-width:1\" /><line x1=\"370.699\" y1=\"133.827\" x2=\"367.917\" y2=\"134.951\" stroke-linecap=\"round\" style=\"stroke:blue;stroke-width:1\" /><line x1=\"367.917\" y1=\"134.951\" x2=\"365.176\" y2=\"136.171\" stroke-linecap=\"round\" style=\"stroke:blue;stroke-width:1\" /><line x1=\"365.176\" y1=\"136.171\" x2=\"362.48\" y2=\"137.486\" stroke-linecap=\"round\" style=\"stroke:blue;stroke-width:1\" /><line x1=\"362.48\" y1=\"137.486\" x2=\"359.831\" y2=\"138.894\" stroke-linecap=\"round\" style=\"stroke:blue;stroke-width:1\" /><line x1=\"359.831\" y1=\"138.894\" x2=\"357.233\" y2=\"140.394\" stroke-linecap=\"round\" style=\"stroke:blue;stroke-width:1\" /><line x1=\"357.233\" y1=\"140.394\" x2=\"354.689\" y2=\"141.984\" stroke-linecap=\"round\" style=\"stroke:blue;stroke-width:1\" /><line x1=\"354.689\" y1=\"141.984\" x2=\"352.202\" y2=\"143.662\" stroke-linecap=\"round\" style=\"stroke:blue;stroke-width:1\" /><line x1=\"352.202\" y1=\"143.662\" x2=\"349.775\" y2=\"145.425\" stroke-linecap=\"round\" style=\"stroke:blue;stroke-width:1\" /><line x1=\"349.775\" y1=\"145.425\" x2=\"347.411\" y2=\"147.272\" stroke-linecap=\"round\" style=\"stroke:blue;stroke-width:1\" /><line x1=\"347.411\" y1=\"147.272\" x2=\"345.113\" y2=\"149.2\" stroke-linecap=\"round\" style=\"stroke:blue;stroke-width:1\" /><line x1=\"345.113\" y1=\"149.2\" x2=\"342.884\" y2=\"151.207\" stroke-linecap=\"round\" style=\"stroke:blue;stroke-width:1\" /><line x1=\"342.884\" y1=\"151.207\" x2=\"340.726\" y2=\"153.291\" stroke-linecap=\"round\" style=\"stroke:blue;stroke-width:1\" /><line x1=\"340.726\" y1=\"153.291\" x2=\"338.642\" y2=\"155.449\" stroke-linecap=\"round\" style=\"stroke:blue;stroke-width:1\" /><line x1=\"338.642\" y1=\"155.449\" x2=\"336.635\" y2=\"157.678\" stroke-linecap=\"round\" style=\"stroke:blue;stroke-width:1\" /><line x1=\"336.635\" y1=\"157.678\" x2=\"334.707\" y2=\"159.976\" stroke-linecap=\"round\" style=\"stroke:blue;stroke-width:1\" /><line x1=\"334.707\" y1=\"159.976\" x2=\"332.86\" y2=\"162.34\" stroke-linecap=\"round\" style=\"stroke:blue;stroke-width:1\" /><line x1=\"332.86\" y1=\"162.34\" x2=\"331.097\" y2=\"164.767\" stroke-linecap=\"round\" style=\"stroke:blue;stroke-width:1\" /><line x1=\"331.097\" y1=\"164.767\" x2=\"329.419\" y2=\"167.254\" stroke-linecap=\"round\" style=\"stroke:blue;stroke-width:1\" /><line x1=\"329.419\" y1=\"167.254\" x2=\"327.829\" y2=\"169.798\" stroke-linecap=\"round\" style=\"stroke:blue;stroke-width:1\" /><line x1=\"327.829\" y1=\"169.798\" x2=\"326.329\" y2=\"172.396\" stroke-linecap=\"round\" style=\"stroke:blue;stroke-width:1\" /><line x1=\"326.329\" y1=\"172.396\" x2=\"324.921\" y2=\"175.045\" stroke-linecap=\"round\" style=\"stroke:blue;stroke-width:1\" /><line x1=\"324.921\" y1=\"175.045\" x2=\"323.606\" y2=\"177.741\" stroke-linecap=\"round\" style=\"stroke:blue;stroke-width:1\" /><line x1=\"323.606\" y1=\"177.741\" x2=\"322.386\" y2=\"180.482\" stroke-linecap=\"round\" style=\"stroke:blue;stroke-width:1\" /><line x1=\"322.386\" y1=\"180.482\" x2=\"321.262\" y2=\"183.264\" stroke-linecap=\"round\" style=\"stroke:blue;stroke-width:1\" /><line x1=\"321.262\" y1=\"183.264\" x2=\"320.236\" y2=\"186.083\" stroke-linecap=\"round\" style=\"stroke:blue;stroke-width:1\" /><line x1=\"320.236\" y1=\"186.083\" x2=\"319.309\" y2=\"188.936\" stroke-linecap=\"round\" style=\"stroke:blue;stroke-width:1\" /><line x1=\"319.309\" y1=\"188.936\" x2=\"318.482\" y2=\"191.82\" stroke-linecap=\"round\" style=\"stroke:blue;stroke-width:1\" /><line x1=\"318.482\" y1=\"191.82\" x2=\"317.756\" y2=\"194.731\" stroke-linecap=\"round\" style=\"stroke:blue;stroke-width:1\" /><line x1=\"317.756\" y1=\"194.731\" x2=\"317.132\" y2=\"197.665\" stroke-linecap=\"round\" style=\"stroke:blue;stroke-width:1\" /><line x1=\"317.132\" y1=\"197.665\" x2=\"316.611\" y2=\"200.619\" stroke-linecap=\"round\" style=\"stroke:blue;stroke-width:1\" /><line x1=\"316.611\" y1=\"200.619\" x2=\"316.193\" y2=\"203.59\" stroke-linecap=\"round\" style=\"stroke:blue;stroke-width:1\" /><line x1=\"316.193\" y1=\"203.59\" x2=\"315.879\" y2=\"206.574\" stroke-linecap=\"round\" style=\"stroke:blue;stroke-width:1\" /><line x1=\"315.879\" y1=\"206.574\" x2=\"315.67\" y2=\"209.567\" stroke-linecap=\"round\" style=\"stroke:blue;stroke-width:1\" /><line x1=\"315.67\" y1=\"209.567\" x2=\"315.565\" y2=\"212.565\" stroke-linecap=\"round\" style=\"stroke:blue;stroke-width:1\" /><line x1=\"315.565\" y1=\"212.565\" x2=\"315.565\" y2=\"215.565\" stroke-linecap=\"round\" style=\"stroke:blue;stroke-width:1\" /><line x1=\"315.565\" y1=\"215.565\" x2=\"315.67\" y2=\"218.563\" stroke-linecap=\"round\" style=\"stroke:blue;stroke-width:1\" /><line x1=\"315.67\" y1=\"218.563\" x2=\"315.879\" y2=\"221.556\" stroke-linecap=\"round\" style=\"stroke:blue;stroke-width:1\" /><line x1=\"315.879\" y1=\"221.556\" x2=\"316.193\" y2=\"224.54\" stroke-linecap=\"round\" style=\"stroke:blue;stroke-width:1\" /><line x1=\"316.193\" y1=\"224.54\" x2=\"316.611\" y2=\"227.511\" stroke-linecap=\"round\" style=\"stroke:blue;stroke-width:1\" /><line x1=\"316.611\" y1=\"227.511\" x2=\"317.132\" y2=\"230.465\" stroke-linecap=\"round\" style=\"stroke:blue;stroke-width:1\" /><line x1=\"317.132\" y1=\"230.465\" x2=\"317.756\" y2=\"233.399\" stroke-linecap=\"round\" style=\"stroke:blue;stroke-width:1\" /><line x1=\"317.756\" y1=\"233.399\" x2=\"318.482\" y2=\"236.31\" stroke-linecap=\"round\" style=\"stroke:blue;stroke-width:1\" /><line x1=\"318.482\" y1=\"236.31\" x2=\"319.309\" y2=\"239.194\" stroke-linecap=\"round\" style=\"stroke:blue;stroke-width:1\" /><line x1=\"319.309\" y1=\"239.194\" x2=\"320.236\" y2=\"242.047\" stroke-linecap=\"round\" style=\"stroke:blue;stroke-width:1\" /><line x1=\"320.236\" y1=\"242.047\" x2=\"321.262\" y2=\"244.866\" stroke-linecap=\"round\" style=\"stroke:blue;stroke-width:1\" /><line x1=\"321.262\" y1=\"244.866\" x2=\"322.386\" y2=\"247.648\" stroke-linecap=\"round\" style=\"stroke:blue;stroke-width:1\" /><line x1=\"322.386\" y1=\"247.648\" x2=\"323.606\" y2=\"250.389\" stroke-linecap=\"round\" style=\"stroke:blue;stroke-width:1\" /><line x1=\"323.606\" y1=\"250.389\" x2=\"324.921\" y2=\"253.085\" stroke-linecap=\"round\" style=\"stroke:blue;stroke-width:1\" /><line x1=\"324.921\" y1=\"253.085\" x2=\"326.329\" y2=\"255.734\" stroke-linecap=\"round\" style=\"stroke:blue;stroke-width:1\" /><line x1=\"326.329\" y1=\"255.734\" x2=\"327.829\" y2=\"258.332\" stroke-linecap=\"round\" style=\"stroke:blue;stroke-width:1\" /><line x1=\"327.829\" y1=\"258.332\" x2=\"329.419\" y2=\"260.876\" stroke-linecap=\"round\" style=\"stroke:blue;stroke-width:1\" /><line x1=\"329.419\" y1=\"260.876\" x2=\"331.097\" y2=\"263.363\" stroke-linecap=\"round\" style=\"stroke:blue;stroke-width:1\" /><line x1=\"331.097\" y1=\"263.363\" x2=\"332.86\" y2=\"265.79\" stroke-linecap=\"round\" style=\"stroke:blue;stroke-width:1\" /><line x1=\"332.86\" y1=\"265.79\" x2=\"334.707\" y2=\"268.154\" stroke-linecap=\"round\" style=\"stroke:blue;stroke-width:1\" /><line x1=\"334.707\" y1=\"268.154\" x2=\"336.635\" y2=\"270.452\" stroke-linecap=\"round\" style=\"stroke:blue;stroke-width:1\" /><line x1=\"336.635\" y1=\"270.452\" x2=\"338.642\" y2=\"272.681\" stroke-linecap=\"round\" style=\"stroke:blue;stroke-width:1\" /><line x1=\"338.642\" y1=\"272.681\" x2=\"340.726\" y2=\"274.839\" stroke-linecap=\"round\" style=\"stroke:blue;stroke-width:1\" /><line x1=\"340.726\" y1=\"274.839\" x2=\"342.884\" y2=\"276.923\" stroke-linecap=\"round\" style=\"stroke:blue;stroke-width:1\" /><line x1=\"342.884\" y1=\"276.923\" x2=\"345.113\" y2=\"278.93\" stroke-linecap=\"round\" style=\"stroke:blue;stroke-width:1\" /><line x1=\"345.113\" y1=\"278.93\" x2=\"347.411\" y2=\"280.858\" stroke-linecap=\"round\" style=\"stroke:blue;stroke-width:1\" /><line x1=\"347.411\" y1=\"280.858\" x2=\"349.775\" y2=\"282.705\" stroke-linecap=\"round\" style=\"stroke:blue;stroke-width:1\" /><line x1=\"349.775\" y1=\"282.705\" x2=\"352.202\" y2=\"284.468\" stroke-linecap=\"round\" style=\"stroke:blue;stroke-width:1\" /><line x1=\"352.202\" y1=\"284.468\" x2=\"354.689\" y2=\"286.146\" stroke-linecap=\"round\" style=\"stroke:blue;stroke-width:1\" /><line x1=\"354.689\" y1=\"286.146\" x2=\"357.233\" y2=\"287.736\" stroke-linecap=\"round\" style=\"stroke:blue;stroke-width:1\" /><line x1=\"357.233\" y1=\"287.736\" x2=\"359.831\" y2=\"289.236\" stroke-linecap=\"round\" style=\"stroke:blue;stroke-width:1\" /><line x1=\"359.831\" y1=\"289.236\" x2=\"362.48\" y2=\"290.644\" stroke-linecap=\"round\" style=\"stroke:blue;stroke-width:1\" /><line x1=\"362.48\" y1=\"290.644\" x2=\"365.176\" y2=\"291.959\" stroke-linecap=\"round\" style=\"stroke:blue;stroke-width:1\" /><line x1=\"365.176\" y1=\"291.959\" x2=\"367.917\" y2=\"293.179\" stroke-linecap=\"round\" style=\"stroke:blue;stroke-width:1\" /><line x1=\"367.917\" y1=\"293.179\" x2=\"370.699\" y2=\"294.303\" stroke-linecap=\"round\" style=\"stroke:blue;stroke-width:1\" /><line x1=\"370.699\" y1=\"294.303\" x2=\"373.518\" y2=\"295.329\" stroke-linecap=\"round\" style=\"stroke:blue;stroke-width:1\" /><line x1=\"373.518\" y1=\"295.329\" x2=\"376.371\" y2=\"296.256\" stroke-linecap=\"round\" style=\"stroke:blue;stroke-width:1\" /><line x1=\"376.371\" y1=\"296.256\" x2=\"379.255\" y2=\"297.083\" stroke-linecap=\"round\" style=\"stroke:blue;stroke-width:1\" /><line x1=\"379.255\" y1=\"297.083\" x2=\"382.166\" y2=\"297.809\" stroke-linecap=\"round\" style=\"stroke:blue;stroke-width:1\" /><line x1=\"382.166\" y1=\"297.809\" x2=\"385.1\" y2=\"298.433\" stroke-linecap=\"round\" style=\"stroke:blue;stroke-width:1\" /><line x1=\"385.1\" y1=\"298.433\" x2=\"388.054\" y2=\"298.954\" stroke-linecap=\"round\" style=\"stroke:blue;stroke-width:1\" /><line x1=\"388.054\" y1=\"298.954\" x2=\"391.025\" y2=\"299.372\" stroke-linecap=\"round\" style=\"stroke:blue;stroke-width:1\" /><line x1=\"391.025\" y1=\"299.372\" x2=\"394.009\" y2=\"299.686\" stroke-linecap=\"round\" style=\"stroke:blue;stroke-width:1\" /><line x1=\"394.009\" y1=\"299.686\" x2=\"397.002\" y2=\"299.895\" stroke-linecap=\"round\" style=\"stroke:blue;stroke-width:1\" /><line x1=\"397.002\" y1=\"299.895\" x2=\"400.0\" y2=\"300.0\" stroke-linecap=\"round\" style=\"stroke:blue;stroke-width:1\" />\n",
              "        \n",
              "        \n",
              "        <g id=\"classic\" visibility=\"visible\" transform=\"rotate(-90,400.0,300.0) translate(400.0, 300.0)\">\n",
              "<polygon points=\"-5,-4.5 0,-2.5 5,-4.5 0,4.5\" transform=\"skewX(0) scale(1,1)\" style=\"stroke:red;fill:red;stroke-width:1\" />\n",
              "</g><g id=\"classic\" visibility=\"visible\" transform=\"rotate(-88,400.0,300.0) translate(400.0, 300.0)\">\n",
              "<polygon points=\"-5,-4.5 0,-2.5 5,-4.5 0,4.5\" transform=\"skewX(0) scale(1,1)\" style=\"stroke:blue;fill:blue;stroke-width:1\" />\n",
              "<animateTransform id = \"one\" attributeName=\"transform\" \n",
              "                      type=\"scale\"\n",
              "                      from=\"1 1\" to=\"1 1\"\n",
              "                      begin=\"0s\" dur=\"0.01s\"\n",
              "                      repeatCount=\"1\"\n",
              "                      additive=\"sum\"\n",
              "                      fill=\"freeze\"\n",
              "                /><animateTransform attributeName=\"transform\"\n",
              "                    type=\"rotate\"\n",
              "                    from=\"0 0 0\" to =\"-2 0 0\"\n",
              "                    begin=\"one.end\" dur=\"0.005555555555555556s\"\n",
              "                    repeatCount=\"1\"\n",
              "                    additive=\"sum\"\n",
              "                    fill=\"freeze\"\n",
              "                /></g>\n",
              "      </svg>\n",
              "    "
            ]
          },
          "metadata": {}
        }
      ]
    }
  ],
  "metadata": {
    "colab": {
      "collapsed_sections": [],
      "name": "week3.ipynb",
      "provenance": []
    },
    "kernelspec": {
      "display_name": "Python 3",
      "name": "python3"
    },
    "language_info": {
      "name": "python"
    }
  },
  "nbformat": 4,
  "nbformat_minor": 0
}